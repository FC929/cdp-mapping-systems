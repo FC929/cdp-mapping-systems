{
 "cells": [
  {
   "cell_type": "markdown",
   "metadata": {},
   "source": [
    "# Calculating change over time\n"
   ]
  },
  {
   "cell_type": "markdown",
   "metadata": {},
   "source": [
    "## imports\n"
   ]
  },
  {
   "cell_type": "code",
   "execution_count": 2,
   "metadata": {},
   "outputs": [],
   "source": [
    "import leafmap\n",
    "import leafmap.colormaps as cm\n",
    "import requests\n",
    "import rasterio as rio\n",
    "from rasterio.merge import merge\n",
    "import glob"
   ]
  },
  {
   "cell_type": "markdown",
   "metadata": {},
   "source": [
    "## searching for data\n"
   ]
  },
  {
   "cell_type": "code",
   "execution_count": 3,
   "metadata": {},
   "outputs": [],
   "source": [
    "url = \"https://earth-search.aws.element84.com/v1/\"\n",
    "collection = \"sentinel-2-l2a\"\n",
    "time_range = \"2023-08-01/2023-08-31\""
   ]
  },
  {
   "cell_type": "code",
   "execution_count": 4,
   "metadata": {},
   "outputs": [],
   "source": [
    "# bbox for dallas metro\n",
    "bbox = [\n",
    "    -97.06213756027009,\n",
    "    32.97324551867027,\n",
    "    -96.46807822577594,\n",
    "    33.3578329610085,\n",
    "]"
   ]
  },
  {
   "cell_type": "code",
   "execution_count": 5,
   "metadata": {},
   "outputs": [
    {
     "data": {
      "text/plain": [
       "['https://earth-search.aws.element84.com/v1/collections/sentinel-2-l2a/items/S2B_14SQB_20230819_0_L2A',\n",
       " 'https://earth-search.aws.element84.com/v1/collections/sentinel-2-l2a/items/S2A_14SQB_20230804_0_L2A',\n",
       " 'https://earth-search.aws.element84.com/v1/collections/sentinel-2-l2a/items/S2A_14SPC_20230817_0_L2A',\n",
       " 'https://earth-search.aws.element84.com/v1/collections/sentinel-2-l2a/items/S2B_14SPB_20230819_0_L2A',\n",
       " 'https://earth-search.aws.element84.com/v1/collections/sentinel-2-l2a/items/S2A_14SPB_20230814_0_L2A',\n",
       " 'https://earth-search.aws.element84.com/v1/collections/sentinel-2-l2a/items/S2A_14SQB_20230814_0_L2A',\n",
       " 'https://earth-search.aws.element84.com/v1/collections/sentinel-2-l2a/items/S2B_14SPC_20230819_0_L2A',\n",
       " 'https://earth-search.aws.element84.com/v1/collections/sentinel-2-l2a/items/S2A_14SQC_20230817_0_L2A',\n",
       " 'https://earth-search.aws.element84.com/v1/collections/sentinel-2-l2a/items/S2A_14SPB_20230804_0_L2A',\n",
       " 'https://earth-search.aws.element84.com/v1/collections/sentinel-2-l2a/items/S2B_14SQC_20230819_0_L2A']"
      ]
     },
     "execution_count": 5,
     "metadata": {},
     "output_type": "execute_result"
    }
   ],
   "source": [
    "search = leafmap.stac_search(\n",
    "    url=url,\n",
    "    max_items=10,\n",
    "    collections=[collection],\n",
    "    bbox=bbox,\n",
    "    datetime=time_range,\n",
    "    query={\"eo:cloud_cover\": {\"lt\": 20}},\n",
    "    sortby=[{\"field\": \"properties.eo:cloud_cover\", \"direction\": \"asc\"}],\n",
    "    get_links=True,\n",
    ")\n",
    "search"
   ]
  },
  {
   "cell_type": "code",
   "execution_count": 6,
   "metadata": {},
   "outputs": [],
   "source": [
    "search_gdf = leafmap.stac_search(\n",
    "    url=url,\n",
    "    max_items=10,\n",
    "    collections=[collection],\n",
    "    bbox=bbox,\n",
    "    datetime=time_range,\n",
    "    query={\"eo:cloud_cover\": {\"lt\": 20}},\n",
    "    sortby=[{\"field\": \"properties.eo:cloud_cover\", \"direction\": \"asc\"}],\n",
    "    get_gdf=True,\n",
    ")"
   ]
  },
  {
   "cell_type": "code",
   "execution_count": 7,
   "metadata": {},
   "outputs": [
    {
     "data": {
      "text/plain": [
       "Index(['geometry', 'created', 'platform', 'constellation', 'instruments',\n",
       "       'eo:cloud_cover', 'proj:epsg', 'mgrs:utm_zone', 'mgrs:latitude_band',\n",
       "       'mgrs:grid_square', 'grid:code', 'view:sun_azimuth',\n",
       "       'view:sun_elevation', 's2:degraded_msi_data_percentage',\n",
       "       's2:nodata_pixel_percentage', 's2:saturated_defective_pixel_percentage',\n",
       "       's2:dark_features_percentage', 's2:cloud_shadow_percentage',\n",
       "       's2:vegetation_percentage', 's2:not_vegetated_percentage',\n",
       "       's2:water_percentage', 's2:unclassified_percentage',\n",
       "       's2:medium_proba_clouds_percentage', 's2:high_proba_clouds_percentage',\n",
       "       's2:thin_cirrus_percentage', 's2:snow_ice_percentage',\n",
       "       's2:product_type', 's2:processing_baseline', 's2:product_uri',\n",
       "       's2:generation_time', 's2:datatake_id', 's2:datatake_type',\n",
       "       's2:datastrip_id', 's2:granule_id', 's2:reflectance_conversion_factor',\n",
       "       'datetime', 's2:sequence', 'earthsearch:s3_path',\n",
       "       'earthsearch:payload_id', 'earthsearch:boa_offset_applied',\n",
       "       'processing:software', 'updated'],\n",
       "      dtype='object')"
      ]
     },
     "execution_count": 7,
     "metadata": {},
     "output_type": "execute_result"
    }
   ],
   "source": [
    "search_gdf.columns"
   ]
  },
  {
   "cell_type": "markdown",
   "metadata": {},
   "source": [
    "## exploring and filtering search results\n"
   ]
  },
  {
   "cell_type": "code",
   "execution_count": 8,
   "metadata": {},
   "outputs": [
    {
     "data": {
      "text/plain": [
       "<Axes: >"
      ]
     },
     "execution_count": 8,
     "metadata": {},
     "output_type": "execute_result"
    },
    {
     "data": {
      "image/png": "[encoded data removed]",
      "text/plain": [
       "<Figure size 640x480 with 1 Axes>"
      ]
     },
     "metadata": {},
     "output_type": "display_data"
    }
   ],
   "source": [
    "search_gdf.plot(\"mgrs:grid_square\", alpha=0.25)"
   ]
  },
  {
   "cell_type": "code",
   "execution_count": 9,
   "metadata": {},
   "outputs": [
    {
     "data": {
      "text/plain": [
       "s2:granule_id\n",
       "S2B_OPER_MSI_L2A_TL_2BPS_20230819T223356_A033700_T14SQB_N05.09    1\n",
       "S2A_OPER_MSI_L2A_TL_2APS_20230804T235402_A042394_T14SQB_N05.09    1\n",
       "S2A_OPER_MSI_L2A_TL_2APS_20230818T002256_A042580_T14SPC_N05.09    1\n",
       "S2B_OPER_MSI_L2A_TL_2BPS_20230819T223356_A033700_T14SPB_N05.09    1\n",
       "S2A_OPER_MSI_L2A_TL_2APS_20230815T002553_A042537_T14SPB_N05.09    1\n",
       "S2A_OPER_MSI_L2A_TL_2APS_20230815T002553_A042537_T14SQB_N05.09    1\n",
       "S2B_OPER_MSI_L2A_TL_2BPS_20230819T223356_A033700_T14SPC_N05.09    1\n",
       "S2A_OPER_MSI_L2A_TL_2APS_20230818T002256_A042580_T14SQC_N05.09    1\n",
       "S2A_OPER_MSI_L2A_TL_2APS_20230804T235402_A042394_T14SPB_N05.09    1\n",
       "S2B_OPER_MSI_L2A_TL_2BPS_20230819T223356_A033700_T14SQC_N05.09    1\n",
       "Name: count, dtype: int64"
      ]
     },
     "execution_count": 9,
     "metadata": {},
     "output_type": "execute_result"
    }
   ],
   "source": [
    "search_gdf[\"s2:granule_id\"].value_counts()"
   ]
  },
  {
   "cell_type": "code",
   "execution_count": 10,
   "metadata": {},
   "outputs": [],
   "source": [
    "search_gdf[\"area\"] = search_gdf.geometry.area"
   ]
  },
  {
   "cell_type": "code",
   "execution_count": 11,
   "metadata": {},
   "outputs": [],
   "source": [
    "search_gdf.sort_values(\"area\", ascending=False, inplace=True)"
   ]
  },
  {
   "cell_type": "code",
   "execution_count": 12,
   "metadata": {},
   "outputs": [
    {
     "data": {
      "text/html": [
       "<div>\n",
       "<style scoped>\n",
       "    .dataframe tbody tr th:only-of-type {\n",
       "        vertical-align: middle;\n",
       "    }\n",
       "\n",
       "    .dataframe tbody tr th {\n",
       "        vertical-align: top;\n",
       "    }\n",
       "\n",
       "    .dataframe thead th {\n",
       "        text-align: right;\n",
       "    }\n",
       "</style>\n",
       "<table border=\"1\" class=\"dataframe\">\n",
       "  <thead>\n",
       "    <tr style=\"text-align: right;\">\n",
       "      <th></th>\n",
       "      <th>geometry</th>\n",
       "      <th>created</th>\n",
       "      <th>platform</th>\n",
       "      <th>constellation</th>\n",
       "      <th>instruments</th>\n",
       "      <th>eo:cloud_cover</th>\n",
       "      <th>proj:epsg</th>\n",
       "      <th>mgrs:utm_zone</th>\n",
       "      <th>mgrs:latitude_band</th>\n",
       "      <th>mgrs:grid_square</th>\n",
       "      <th>...</th>\n",
       "      <th>s2:granule_id</th>\n",
       "      <th>s2:reflectance_conversion_factor</th>\n",
       "      <th>datetime</th>\n",
       "      <th>s2:sequence</th>\n",
       "      <th>earthsearch:s3_path</th>\n",
       "      <th>earthsearch:payload_id</th>\n",
       "      <th>earthsearch:boa_offset_applied</th>\n",
       "      <th>processing:software</th>\n",
       "      <th>updated</th>\n",
       "      <th>area</th>\n",
       "    </tr>\n",
       "  </thead>\n",
       "  <tbody>\n",
       "    <tr>\n",
       "      <th>2</th>\n",
       "      <td>POLYGON ((-97.91284 34.33683, -97.92531 33.346...</td>\n",
       "      <td>2023-08-18T06:10:25.042Z</td>\n",
       "      <td>sentinel-2a</td>\n",
       "      <td>sentinel-2</td>\n",
       "      <td>[msi]</td>\n",
       "      <td>0.006437</td>\n",
       "      <td>32614</td>\n",
       "      <td>14</td>\n",
       "      <td>S</td>\n",
       "      <td>PC</td>\n",
       "      <td>...</td>\n",
       "      <td>S2A_OPER_MSI_L2A_TL_2APS_20230818T002256_A0425...</td>\n",
       "      <td>0.974489</td>\n",
       "      <td>2023-08-17T17:24:31.907000Z</td>\n",
       "      <td>0</td>\n",
       "      <td>s3://sentinel-cogs/sentinel-s2-l2a-cogs/14/S/P...</td>\n",
       "      <td>roda-sentinel2/workflow-sentinel2-to-stac/a898...</td>\n",
       "      <td>True</td>\n",
       "      <td>{'sentinel2-to-stac': '0.1.1'}</td>\n",
       "      <td>2023-08-18T06:10:25.042Z</td>\n",
       "      <td>1.174444</td>\n",
       "    </tr>\n",
       "    <tr>\n",
       "      <th>9</th>\n",
       "      <td>POLYGON ((-96.81576 34.32217, -96.82780 34.277...</td>\n",
       "      <td>2023-08-20T04:44:38.807Z</td>\n",
       "      <td>sentinel-2b</td>\n",
       "      <td>sentinel-2</td>\n",
       "      <td>[msi]</td>\n",
       "      <td>0.076934</td>\n",
       "      <td>32614</td>\n",
       "      <td>14</td>\n",
       "      <td>S</td>\n",
       "      <td>QC</td>\n",
       "      <td>...</td>\n",
       "      <td>S2B_OPER_MSI_L2A_TL_2BPS_20230819T223356_A0337...</td>\n",
       "      <td>0.975198</td>\n",
       "      <td>2023-08-19T17:14:31.780000Z</td>\n",
       "      <td>0</td>\n",
       "      <td>s3://sentinel-cogs/sentinel-s2-l2a-cogs/14/S/Q...</td>\n",
       "      <td>roda-sentinel2/workflow-sentinel2-to-stac/2524...</td>\n",
       "      <td>True</td>\n",
       "      <td>{'sentinel2-to-stac': '0.1.1'}</td>\n",
       "      <td>2023-08-20T04:44:38.807Z</td>\n",
       "      <td>1.172798</td>\n",
       "    </tr>\n",
       "    <tr>\n",
       "      <th>0</th>\n",
       "      <td>POLYGON ((-96.84938 33.42092, -96.87321 32.431...</td>\n",
       "      <td>2023-08-20T04:40:37.325Z</td>\n",
       "      <td>sentinel-2b</td>\n",
       "      <td>sentinel-2</td>\n",
       "      <td>[msi]</td>\n",
       "      <td>0.004539</td>\n",
       "      <td>32614</td>\n",
       "      <td>14</td>\n",
       "      <td>S</td>\n",
       "      <td>QB</td>\n",
       "      <td>...</td>\n",
       "      <td>S2B_OPER_MSI_L2A_TL_2BPS_20230819T223356_A0337...</td>\n",
       "      <td>0.975198</td>\n",
       "      <td>2023-08-19T17:14:46.266000Z</td>\n",
       "      <td>0</td>\n",
       "      <td>s3://sentinel-cogs/sentinel-s2-l2a-cogs/14/S/Q...</td>\n",
       "      <td>roda-sentinel2/workflow-sentinel2-to-stac/a707...</td>\n",
       "      <td>True</td>\n",
       "      <td>{'sentinel2-to-stac': '0.1.1'}</td>\n",
       "      <td>2023-08-20T04:40:37.325Z</td>\n",
       "      <td>1.161135</td>\n",
       "    </tr>\n",
       "    <tr>\n",
       "      <th>1</th>\n",
       "      <td>POLYGON ((-96.84938 33.42092, -96.87321 32.431...</td>\n",
       "      <td>2023-08-05T04:59:04.872Z</td>\n",
       "      <td>sentinel-2a</td>\n",
       "      <td>sentinel-2</td>\n",
       "      <td>[msi]</td>\n",
       "      <td>0.005262</td>\n",
       "      <td>32614</td>\n",
       "      <td>14</td>\n",
       "      <td>S</td>\n",
       "      <td>QB</td>\n",
       "      <td>...</td>\n",
       "      <td>S2A_OPER_MSI_L2A_TL_2APS_20230804T235402_A0423...</td>\n",
       "      <td>0.970632</td>\n",
       "      <td>2023-08-04T17:14:46.231000Z</td>\n",
       "      <td>0</td>\n",
       "      <td>s3://sentinel-cogs/sentinel-s2-l2a-cogs/14/S/Q...</td>\n",
       "      <td>roda-sentinel2/workflow-sentinel2-to-stac/73a7...</td>\n",
       "      <td>True</td>\n",
       "      <td>{'sentinel2-to-stac': '0.1.1'}</td>\n",
       "      <td>2023-08-05T04:59:04.872Z</td>\n",
       "      <td>1.161135</td>\n",
       "    </tr>\n",
       "    <tr>\n",
       "      <th>5</th>\n",
       "      <td>POLYGON ((-96.84938 33.42092, -96.87321 32.431...</td>\n",
       "      <td>2023-08-15T04:10:46.325Z</td>\n",
       "      <td>sentinel-2a</td>\n",
       "      <td>sentinel-2</td>\n",
       "      <td>[msi]</td>\n",
       "      <td>0.014575</td>\n",
       "      <td>32614</td>\n",
       "      <td>14</td>\n",
       "      <td>S</td>\n",
       "      <td>QB</td>\n",
       "      <td>...</td>\n",
       "      <td>S2A_OPER_MSI_L2A_TL_2APS_20230815T002553_A0425...</td>\n",
       "      <td>0.973476</td>\n",
       "      <td>2023-08-14T17:14:46.612000Z</td>\n",
       "      <td>0</td>\n",
       "      <td>s3://sentinel-cogs/sentinel-s2-l2a-cogs/14/S/Q...</td>\n",
       "      <td>roda-sentinel2/workflow-sentinel2-to-stac/cac3...</td>\n",
       "      <td>True</td>\n",
       "      <td>{'sentinel2-to-stac': '0.1.1'}</td>\n",
       "      <td>2023-08-15T04:10:46.325Z</td>\n",
       "      <td>1.161135</td>\n",
       "    </tr>\n",
       "    <tr>\n",
       "      <th>7</th>\n",
       "      <td>POLYGON ((-96.82664 34.32236, -96.85153 33.333...</td>\n",
       "      <td>2023-08-18T06:09:55.100Z</td>\n",
       "      <td>sentinel-2a</td>\n",
       "      <td>sentinel-2</td>\n",
       "      <td>[msi]</td>\n",
       "      <td>0.040440</td>\n",
       "      <td>32614</td>\n",
       "      <td>14</td>\n",
       "      <td>S</td>\n",
       "      <td>QC</td>\n",
       "      <td>...</td>\n",
       "      <td>S2A_OPER_MSI_L2A_TL_2APS_20230818T002256_A0425...</td>\n",
       "      <td>0.974489</td>\n",
       "      <td>2023-08-17T17:24:28.416000Z</td>\n",
       "      <td>0</td>\n",
       "      <td>s3://sentinel-cogs/sentinel-s2-l2a-cogs/14/S/Q...</td>\n",
       "      <td>roda-sentinel2/workflow-sentinel2-to-stac/c613...</td>\n",
       "      <td>True</td>\n",
       "      <td>{'sentinel2-to-stac': '0.1.1'}</td>\n",
       "      <td>2023-08-18T06:09:55.100Z</td>\n",
       "      <td>0.620451</td>\n",
       "    </tr>\n",
       "    <tr>\n",
       "      <th>4</th>\n",
       "      <td>POLYGON ((-97.06177 33.42442, -97.32332 32.437...</td>\n",
       "      <td>2023-08-15T04:07:22.379Z</td>\n",
       "      <td>sentinel-2a</td>\n",
       "      <td>sentinel-2</td>\n",
       "      <td>[msi]</td>\n",
       "      <td>0.014211</td>\n",
       "      <td>32614</td>\n",
       "      <td>14</td>\n",
       "      <td>S</td>\n",
       "      <td>PB</td>\n",
       "      <td>...</td>\n",
       "      <td>S2A_OPER_MSI_L2A_TL_2APS_20230815T002553_A0425...</td>\n",
       "      <td>0.973476</td>\n",
       "      <td>2023-08-14T17:14:49.390000Z</td>\n",
       "      <td>0</td>\n",
       "      <td>s3://sentinel-cogs/sentinel-s2-l2a-cogs/14/S/P...</td>\n",
       "      <td>roda-sentinel2/workflow-sentinel2-to-stac/ccee...</td>\n",
       "      <td>True</td>\n",
       "      <td>{'sentinel2-to-stac': '0.1.1'}</td>\n",
       "      <td>2023-08-15T04:07:22.379Z</td>\n",
       "      <td>0.432199</td>\n",
       "    </tr>\n",
       "    <tr>\n",
       "      <th>8</th>\n",
       "      <td>POLYGON ((-97.05919 33.42438, -97.32056 32.437...</td>\n",
       "      <td>2023-08-05T04:52:48.750Z</td>\n",
       "      <td>sentinel-2a</td>\n",
       "      <td>sentinel-2</td>\n",
       "      <td>[msi]</td>\n",
       "      <td>0.059570</td>\n",
       "      <td>32614</td>\n",
       "      <td>14</td>\n",
       "      <td>S</td>\n",
       "      <td>PB</td>\n",
       "      <td>...</td>\n",
       "      <td>S2A_OPER_MSI_L2A_TL_2APS_20230804T235402_A0423...</td>\n",
       "      <td>0.970632</td>\n",
       "      <td>2023-08-04T17:14:49.014000Z</td>\n",
       "      <td>0</td>\n",
       "      <td>s3://sentinel-cogs/sentinel-s2-l2a-cogs/14/S/P...</td>\n",
       "      <td>roda-sentinel2/workflow-sentinel2-to-stac/a5ff...</td>\n",
       "      <td>True</td>\n",
       "      <td>{'sentinel2-to-stac': '0.1.1'}</td>\n",
       "      <td>2023-08-05T04:52:48.750Z</td>\n",
       "      <td>0.429551</td>\n",
       "    </tr>\n",
       "    <tr>\n",
       "      <th>3</th>\n",
       "      <td>POLYGON ((-97.05790 33.42436, -97.31949 32.437...</td>\n",
       "      <td>2023-08-20T04:36:25.463Z</td>\n",
       "      <td>sentinel-2b</td>\n",
       "      <td>sentinel-2</td>\n",
       "      <td>[msi]</td>\n",
       "      <td>0.009056</td>\n",
       "      <td>32614</td>\n",
       "      <td>14</td>\n",
       "      <td>S</td>\n",
       "      <td>PB</td>\n",
       "      <td>...</td>\n",
       "      <td>S2B_OPER_MSI_L2A_TL_2BPS_20230819T223356_A0337...</td>\n",
       "      <td>0.975198</td>\n",
       "      <td>2023-08-19T17:14:49.046000Z</td>\n",
       "      <td>0</td>\n",
       "      <td>s3://sentinel-cogs/sentinel-s2-l2a-cogs/14/S/P...</td>\n",
       "      <td>roda-sentinel2/workflow-sentinel2-to-stac/ee80...</td>\n",
       "      <td>True</td>\n",
       "      <td>{'sentinel2-to-stac': '0.1.1'}</td>\n",
       "      <td>2023-08-20T04:36:25.463Z</td>\n",
       "      <td>0.428386</td>\n",
       "    </tr>\n",
       "    <tr>\n",
       "      <th>6</th>\n",
       "      <td>POLYGON ((-96.81576 34.32217, -97.08134 33.336...</td>\n",
       "      <td>2023-08-20T04:30:59.255Z</td>\n",
       "      <td>sentinel-2b</td>\n",
       "      <td>sentinel-2</td>\n",
       "      <td>[msi]</td>\n",
       "      <td>0.017386</td>\n",
       "      <td>32614</td>\n",
       "      <td>14</td>\n",
       "      <td>S</td>\n",
       "      <td>PC</td>\n",
       "      <td>...</td>\n",
       "      <td>S2B_OPER_MSI_L2A_TL_2BPS_20230819T223356_A0337...</td>\n",
       "      <td>0.975198</td>\n",
       "      <td>2023-08-19T17:14:35.561000Z</td>\n",
       "      <td>0</td>\n",
       "      <td>s3://sentinel-cogs/sentinel-s2-l2a-cogs/14/S/P...</td>\n",
       "      <td>roda-sentinel2/workflow-sentinel2-to-stac/741d...</td>\n",
       "      <td>True</td>\n",
       "      <td>{'sentinel2-to-stac': '0.1.1'}</td>\n",
       "      <td>2023-08-20T04:30:59.255Z</td>\n",
       "      <td>0.213553</td>\n",
       "    </tr>\n",
       "  </tbody>\n",
       "</table>\n",
       "<p>10 rows × 43 columns</p>\n",
       "</div>"
      ],
      "text/plain": [
       "                                            geometry  \\\n",
       "2  POLYGON ((-97.91284 34.33683, -97.92531 33.346...   \n",
       "9  POLYGON ((-96.81576 34.32217, -96.82780 34.277...   \n",
       "0  POLYGON ((-96.84938 33.42092, -96.87321 32.431...   \n",
       "1  POLYGON ((-96.84938 33.42092, -96.87321 32.431...   \n",
       "5  POLYGON ((-96.84938 33.42092, -96.87321 32.431...   \n",
       "7  POLYGON ((-96.82664 34.32236, -96.85153 33.333...   \n",
       "4  POLYGON ((-97.06177 33.42442, -97.32332 32.437...   \n",
       "8  POLYGON ((-97.05919 33.42438, -97.32056 32.437...   \n",
       "3  POLYGON ((-97.05790 33.42436, -97.31949 32.437...   \n",
       "6  POLYGON ((-96.81576 34.32217, -97.08134 33.336...   \n",
       "\n",
       "                    created     platform constellation instruments  \\\n",
       "2  2023-08-18T06:10:25.042Z  sentinel-2a    sentinel-2       [msi]   \n",
       "9  2023-08-20T04:44:38.807Z  sentinel-2b    sentinel-2       [msi]   \n",
       "0  2023-08-20T04:40:37.325Z  sentinel-2b    sentinel-2       [msi]   \n",
       "1  2023-08-05T04:59:04.872Z  sentinel-2a    sentinel-2       [msi]   \n",
       "5  2023-08-15T04:10:46.325Z  sentinel-2a    sentinel-2       [msi]   \n",
       "7  2023-08-18T06:09:55.100Z  sentinel-2a    sentinel-2       [msi]   \n",
       "4  2023-08-15T04:07:22.379Z  sentinel-2a    sentinel-2       [msi]   \n",
       "8  2023-08-05T04:52:48.750Z  sentinel-2a    sentinel-2       [msi]   \n",
       "3  2023-08-20T04:36:25.463Z  sentinel-2b    sentinel-2       [msi]   \n",
       "6  2023-08-20T04:30:59.255Z  sentinel-2b    sentinel-2       [msi]   \n",
       "\n",
       "   eo:cloud_cover  proj:epsg  mgrs:utm_zone mgrs:latitude_band  \\\n",
       "2        0.006437      32614             14                  S   \n",
       "9        0.076934      32614             14                  S   \n",
       "0        0.004539      32614             14                  S   \n",
       "1        0.005262      32614             14                  S   \n",
       "5        0.014575      32614             14                  S   \n",
       "7        0.040440      32614             14                  S   \n",
       "4        0.014211      32614             14                  S   \n",
       "8        0.059570      32614             14                  S   \n",
       "3        0.009056      32614             14                  S   \n",
       "6        0.017386      32614             14                  S   \n",
       "\n",
       "  mgrs:grid_square  ...                                      s2:granule_id  \\\n",
       "2               PC  ...  S2A_OPER_MSI_L2A_TL_2APS_20230818T002256_A0425...   \n",
       "9               QC  ...  S2B_OPER_MSI_L2A_TL_2BPS_20230819T223356_A0337...   \n",
       "0               QB  ...  S2B_OPER_MSI_L2A_TL_2BPS_20230819T223356_A0337...   \n",
       "1               QB  ...  S2A_OPER_MSI_L2A_TL_2APS_20230804T235402_A0423...   \n",
       "5               QB  ...  S2A_OPER_MSI_L2A_TL_2APS_20230815T002553_A0425...   \n",
       "7               QC  ...  S2A_OPER_MSI_L2A_TL_2APS_20230818T002256_A0425...   \n",
       "4               PB  ...  S2A_OPER_MSI_L2A_TL_2APS_20230815T002553_A0425...   \n",
       "8               PB  ...  S2A_OPER_MSI_L2A_TL_2APS_20230804T235402_A0423...   \n",
       "3               PB  ...  S2B_OPER_MSI_L2A_TL_2BPS_20230819T223356_A0337...   \n",
       "6               PC  ...  S2B_OPER_MSI_L2A_TL_2BPS_20230819T223356_A0337...   \n",
       "\n",
       "   s2:reflectance_conversion_factor                     datetime  s2:sequence  \\\n",
       "2                          0.974489  2023-08-17T17:24:31.907000Z            0   \n",
       "9                          0.975198  2023-08-19T17:14:31.780000Z            0   \n",
       "0                          0.975198  2023-08-19T17:14:46.266000Z            0   \n",
       "1                          0.970632  2023-08-04T17:14:46.231000Z            0   \n",
       "5                          0.973476  2023-08-14T17:14:46.612000Z            0   \n",
       "7                          0.974489  2023-08-17T17:24:28.416000Z            0   \n",
       "4                          0.973476  2023-08-14T17:14:49.390000Z            0   \n",
       "8                          0.970632  2023-08-04T17:14:49.014000Z            0   \n",
       "3                          0.975198  2023-08-19T17:14:49.046000Z            0   \n",
       "6                          0.975198  2023-08-19T17:14:35.561000Z            0   \n",
       "\n",
       "                                 earthsearch:s3_path  \\\n",
       "2  s3://sentinel-cogs/sentinel-s2-l2a-cogs/14/S/P...   \n",
       "9  s3://sentinel-cogs/sentinel-s2-l2a-cogs/14/S/Q...   \n",
       "0  s3://sentinel-cogs/sentinel-s2-l2a-cogs/14/S/Q...   \n",
       "1  s3://sentinel-cogs/sentinel-s2-l2a-cogs/14/S/Q...   \n",
       "5  s3://sentinel-cogs/sentinel-s2-l2a-cogs/14/S/Q...   \n",
       "7  s3://sentinel-cogs/sentinel-s2-l2a-cogs/14/S/Q...   \n",
       "4  s3://sentinel-cogs/sentinel-s2-l2a-cogs/14/S/P...   \n",
       "8  s3://sentinel-cogs/sentinel-s2-l2a-cogs/14/S/P...   \n",
       "3  s3://sentinel-cogs/sentinel-s2-l2a-cogs/14/S/P...   \n",
       "6  s3://sentinel-cogs/sentinel-s2-l2a-cogs/14/S/P...   \n",
       "\n",
       "                              earthsearch:payload_id  \\\n",
       "2  roda-sentinel2/workflow-sentinel2-to-stac/a898...   \n",
       "9  roda-sentinel2/workflow-sentinel2-to-stac/2524...   \n",
       "0  roda-sentinel2/workflow-sentinel2-to-stac/a707...   \n",
       "1  roda-sentinel2/workflow-sentinel2-to-stac/73a7...   \n",
       "5  roda-sentinel2/workflow-sentinel2-to-stac/cac3...   \n",
       "7  roda-sentinel2/workflow-sentinel2-to-stac/c613...   \n",
       "4  roda-sentinel2/workflow-sentinel2-to-stac/ccee...   \n",
       "8  roda-sentinel2/workflow-sentinel2-to-stac/a5ff...   \n",
       "3  roda-sentinel2/workflow-sentinel2-to-stac/ee80...   \n",
       "6  roda-sentinel2/workflow-sentinel2-to-stac/741d...   \n",
       "\n",
       "   earthsearch:boa_offset_applied             processing:software  \\\n",
       "2                            True  {'sentinel2-to-stac': '0.1.1'}   \n",
       "9                            True  {'sentinel2-to-stac': '0.1.1'}   \n",
       "0                            True  {'sentinel2-to-stac': '0.1.1'}   \n",
       "1                            True  {'sentinel2-to-stac': '0.1.1'}   \n",
       "5                            True  {'sentinel2-to-stac': '0.1.1'}   \n",
       "7                            True  {'sentinel2-to-stac': '0.1.1'}   \n",
       "4                            True  {'sentinel2-to-stac': '0.1.1'}   \n",
       "8                            True  {'sentinel2-to-stac': '0.1.1'}   \n",
       "3                            True  {'sentinel2-to-stac': '0.1.1'}   \n",
       "6                            True  {'sentinel2-to-stac': '0.1.1'}   \n",
       "\n",
       "                    updated      area  \n",
       "2  2023-08-18T06:10:25.042Z  1.174444  \n",
       "9  2023-08-20T04:44:38.807Z  1.172798  \n",
       "0  2023-08-20T04:40:37.325Z  1.161135  \n",
       "1  2023-08-05T04:59:04.872Z  1.161135  \n",
       "5  2023-08-15T04:10:46.325Z  1.161135  \n",
       "7  2023-08-18T06:09:55.100Z  0.620451  \n",
       "4  2023-08-15T04:07:22.379Z  0.432199  \n",
       "8  2023-08-05T04:52:48.750Z  0.429551  \n",
       "3  2023-08-20T04:36:25.463Z  0.428386  \n",
       "6  2023-08-20T04:30:59.255Z  0.213553  \n",
       "\n",
       "[10 rows x 43 columns]"
      ]
     },
     "execution_count": 12,
     "metadata": {},
     "output_type": "execute_result"
    }
   ],
   "source": [
    "search_gdf"
   ]
  },
  {
   "cell_type": "code",
   "execution_count": 13,
   "metadata": {},
   "outputs": [],
   "source": [
    "search_gdf.drop_duplicates(\"mgrs:grid_square\", inplace=True)"
   ]
  },
  {
   "cell_type": "code",
   "execution_count": 14,
   "metadata": {},
   "outputs": [
    {
     "data": {
      "text/plain": [
       "<Axes: >"
      ]
     },
     "execution_count": 14,
     "metadata": {},
     "output_type": "execute_result"
    },
    {
     "data": {
      "image/png": "[encoded data removed]",
      "text/plain": [
       "<Figure size 640x480 with 1 Axes>"
      ]
     },
     "metadata": {},
     "output_type": "display_data"
    }
   ],
   "source": [
    "search_gdf.iloc[0:4].plot(\"s2:granule_id\", alpha=0.5)"
   ]
  },
  {
   "cell_type": "code",
   "execution_count": 15,
   "metadata": {},
   "outputs": [],
   "source": [
    "# # create a query searching for unique datastrip ids based on the above\n",
    "q = {\"s2:granule_id\": {\"in\": search_gdf[\"s2:granule_id\"].iloc[0:4].unique().tolist()}}\n",
    "\n",
    "search_gdf2 = leafmap.stac_search(\n",
    "    url=url,\n",
    "    max_items=4,\n",
    "    collections=[collection],\n",
    "    bbox=bbox,\n",
    "    datetime=time_range,\n",
    "    query=q,\n",
    "    get_gdf=True,\n",
    ")"
   ]
  },
  {
   "cell_type": "code",
   "execution_count": 16,
   "metadata": {},
   "outputs": [
    {
     "data": {
      "text/html": [
       "<div>\n",
       "<style scoped>\n",
       "    .dataframe tbody tr th:only-of-type {\n",
       "        vertical-align: middle;\n",
       "    }\n",
       "\n",
       "    .dataframe tbody tr th {\n",
       "        vertical-align: top;\n",
       "    }\n",
       "\n",
       "    .dataframe thead th {\n",
       "        text-align: right;\n",
       "    }\n",
       "</style>\n",
       "<table border=\"1\" class=\"dataframe\">\n",
       "  <thead>\n",
       "    <tr style=\"text-align: right;\">\n",
       "      <th></th>\n",
       "      <th>geometry</th>\n",
       "      <th>created</th>\n",
       "      <th>platform</th>\n",
       "      <th>constellation</th>\n",
       "      <th>instruments</th>\n",
       "      <th>eo:cloud_cover</th>\n",
       "      <th>proj:epsg</th>\n",
       "      <th>mgrs:utm_zone</th>\n",
       "      <th>mgrs:latitude_band</th>\n",
       "      <th>mgrs:grid_square</th>\n",
       "      <th>...</th>\n",
       "      <th>s2:datastrip_id</th>\n",
       "      <th>s2:granule_id</th>\n",
       "      <th>s2:reflectance_conversion_factor</th>\n",
       "      <th>datetime</th>\n",
       "      <th>s2:sequence</th>\n",
       "      <th>earthsearch:s3_path</th>\n",
       "      <th>earthsearch:payload_id</th>\n",
       "      <th>earthsearch:boa_offset_applied</th>\n",
       "      <th>processing:software</th>\n",
       "      <th>updated</th>\n",
       "    </tr>\n",
       "  </thead>\n",
       "  <tbody>\n",
       "    <tr>\n",
       "      <th>0</th>\n",
       "      <td>POLYGON ((-96.84938 33.42092, -96.87321 32.431...</td>\n",
       "      <td>2023-08-20T04:40:37.325Z</td>\n",
       "      <td>sentinel-2b</td>\n",
       "      <td>sentinel-2</td>\n",
       "      <td>[msi]</td>\n",
       "      <td>0.004539</td>\n",
       "      <td>32614</td>\n",
       "      <td>14</td>\n",
       "      <td>S</td>\n",
       "      <td>QB</td>\n",
       "      <td>...</td>\n",
       "      <td>S2B_OPER_MSI_L2A_DS_2BPS_20230819T223356_S2023...</td>\n",
       "      <td>S2B_OPER_MSI_L2A_TL_2BPS_20230819T223356_A0337...</td>\n",
       "      <td>0.975198</td>\n",
       "      <td>2023-08-19T17:14:46.266000Z</td>\n",
       "      <td>0</td>\n",
       "      <td>s3://sentinel-cogs/sentinel-s2-l2a-cogs/14/S/Q...</td>\n",
       "      <td>roda-sentinel2/workflow-sentinel2-to-stac/a707...</td>\n",
       "      <td>True</td>\n",
       "      <td>{'sentinel2-to-stac': '0.1.1'}</td>\n",
       "      <td>2023-08-20T04:40:37.325Z</td>\n",
       "    </tr>\n",
       "    <tr>\n",
       "      <th>1</th>\n",
       "      <td>POLYGON ((-96.81576 34.32217, -96.82780 34.277...</td>\n",
       "      <td>2023-08-20T04:44:38.807Z</td>\n",
       "      <td>sentinel-2b</td>\n",
       "      <td>sentinel-2</td>\n",
       "      <td>[msi]</td>\n",
       "      <td>0.076934</td>\n",
       "      <td>32614</td>\n",
       "      <td>14</td>\n",
       "      <td>S</td>\n",
       "      <td>QC</td>\n",
       "      <td>...</td>\n",
       "      <td>S2B_OPER_MSI_L2A_DS_2BPS_20230819T223356_S2023...</td>\n",
       "      <td>S2B_OPER_MSI_L2A_TL_2BPS_20230819T223356_A0337...</td>\n",
       "      <td>0.975198</td>\n",
       "      <td>2023-08-19T17:14:31.780000Z</td>\n",
       "      <td>0</td>\n",
       "      <td>s3://sentinel-cogs/sentinel-s2-l2a-cogs/14/S/Q...</td>\n",
       "      <td>roda-sentinel2/workflow-sentinel2-to-stac/2524...</td>\n",
       "      <td>True</td>\n",
       "      <td>{'sentinel2-to-stac': '0.1.1'}</td>\n",
       "      <td>2023-08-20T04:44:38.807Z</td>\n",
       "    </tr>\n",
       "    <tr>\n",
       "      <th>2</th>\n",
       "      <td>POLYGON ((-97.91284 34.33683, -97.92531 33.346...</td>\n",
       "      <td>2023-08-18T06:10:25.042Z</td>\n",
       "      <td>sentinel-2a</td>\n",
       "      <td>sentinel-2</td>\n",
       "      <td>[msi]</td>\n",
       "      <td>0.006437</td>\n",
       "      <td>32614</td>\n",
       "      <td>14</td>\n",
       "      <td>S</td>\n",
       "      <td>PC</td>\n",
       "      <td>...</td>\n",
       "      <td>S2A_OPER_MSI_L2A_DS_2APS_20230818T002256_S2023...</td>\n",
       "      <td>S2A_OPER_MSI_L2A_TL_2APS_20230818T002256_A0425...</td>\n",
       "      <td>0.974489</td>\n",
       "      <td>2023-08-17T17:24:31.907000Z</td>\n",
       "      <td>0</td>\n",
       "      <td>s3://sentinel-cogs/sentinel-s2-l2a-cogs/14/S/P...</td>\n",
       "      <td>roda-sentinel2/workflow-sentinel2-to-stac/a898...</td>\n",
       "      <td>True</td>\n",
       "      <td>{'sentinel2-to-stac': '0.1.1'}</td>\n",
       "      <td>2023-08-18T06:10:25.042Z</td>\n",
       "    </tr>\n",
       "    <tr>\n",
       "      <th>3</th>\n",
       "      <td>POLYGON ((-97.06177 33.42442, -97.32332 32.437...</td>\n",
       "      <td>2023-08-15T04:07:22.379Z</td>\n",
       "      <td>sentinel-2a</td>\n",
       "      <td>sentinel-2</td>\n",
       "      <td>[msi]</td>\n",
       "      <td>0.014211</td>\n",
       "      <td>32614</td>\n",
       "      <td>14</td>\n",
       "      <td>S</td>\n",
       "      <td>PB</td>\n",
       "      <td>...</td>\n",
       "      <td>S2A_OPER_MSI_L2A_DS_2APS_20230815T002553_S2023...</td>\n",
       "      <td>S2A_OPER_MSI_L2A_TL_2APS_20230815T002553_A0425...</td>\n",
       "      <td>0.973476</td>\n",
       "      <td>2023-08-14T17:14:49.390000Z</td>\n",
       "      <td>0</td>\n",
       "      <td>s3://sentinel-cogs/sentinel-s2-l2a-cogs/14/S/P...</td>\n",
       "      <td>roda-sentinel2/workflow-sentinel2-to-stac/ccee...</td>\n",
       "      <td>True</td>\n",
       "      <td>{'sentinel2-to-stac': '0.1.1'}</td>\n",
       "      <td>2023-08-15T04:07:22.379Z</td>\n",
       "    </tr>\n",
       "  </tbody>\n",
       "</table>\n",
       "<p>4 rows × 42 columns</p>\n",
       "</div>"
      ],
      "text/plain": [
       "                                            geometry  \\\n",
       "0  POLYGON ((-96.84938 33.42092, -96.87321 32.431...   \n",
       "1  POLYGON ((-96.81576 34.32217, -96.82780 34.277...   \n",
       "2  POLYGON ((-97.91284 34.33683, -97.92531 33.346...   \n",
       "3  POLYGON ((-97.06177 33.42442, -97.32332 32.437...   \n",
       "\n",
       "                    created     platform constellation instruments  \\\n",
       "0  2023-08-20T04:40:37.325Z  sentinel-2b    sentinel-2       [msi]   \n",
       "1  2023-08-20T04:44:38.807Z  sentinel-2b    sentinel-2       [msi]   \n",
       "2  2023-08-18T06:10:25.042Z  sentinel-2a    sentinel-2       [msi]   \n",
       "3  2023-08-15T04:07:22.379Z  sentinel-2a    sentinel-2       [msi]   \n",
       "\n",
       "   eo:cloud_cover  proj:epsg  mgrs:utm_zone mgrs:latitude_band  \\\n",
       "0        0.004539      32614             14                  S   \n",
       "1        0.076934      32614             14                  S   \n",
       "2        0.006437      32614             14                  S   \n",
       "3        0.014211      32614             14                  S   \n",
       "\n",
       "  mgrs:grid_square  ...                                    s2:datastrip_id  \\\n",
       "0               QB  ...  S2B_OPER_MSI_L2A_DS_2BPS_20230819T223356_S2023...   \n",
       "1               QC  ...  S2B_OPER_MSI_L2A_DS_2BPS_20230819T223356_S2023...   \n",
       "2               PC  ...  S2A_OPER_MSI_L2A_DS_2APS_20230818T002256_S2023...   \n",
       "3               PB  ...  S2A_OPER_MSI_L2A_DS_2APS_20230815T002553_S2023...   \n",
       "\n",
       "                                       s2:granule_id  \\\n",
       "0  S2B_OPER_MSI_L2A_TL_2BPS_20230819T223356_A0337...   \n",
       "1  S2B_OPER_MSI_L2A_TL_2BPS_20230819T223356_A0337...   \n",
       "2  S2A_OPER_MSI_L2A_TL_2APS_20230818T002256_A0425...   \n",
       "3  S2A_OPER_MSI_L2A_TL_2APS_20230815T002553_A0425...   \n",
       "\n",
       "   s2:reflectance_conversion_factor                     datetime  s2:sequence  \\\n",
       "0                          0.975198  2023-08-19T17:14:46.266000Z            0   \n",
       "1                          0.975198  2023-08-19T17:14:31.780000Z            0   \n",
       "2                          0.974489  2023-08-17T17:24:31.907000Z            0   \n",
       "3                          0.973476  2023-08-14T17:14:49.390000Z            0   \n",
       "\n",
       "                                 earthsearch:s3_path  \\\n",
       "0  s3://sentinel-cogs/sentinel-s2-l2a-cogs/14/S/Q...   \n",
       "1  s3://sentinel-cogs/sentinel-s2-l2a-cogs/14/S/Q...   \n",
       "2  s3://sentinel-cogs/sentinel-s2-l2a-cogs/14/S/P...   \n",
       "3  s3://sentinel-cogs/sentinel-s2-l2a-cogs/14/S/P...   \n",
       "\n",
       "                              earthsearch:payload_id  \\\n",
       "0  roda-sentinel2/workflow-sentinel2-to-stac/a707...   \n",
       "1  roda-sentinel2/workflow-sentinel2-to-stac/2524...   \n",
       "2  roda-sentinel2/workflow-sentinel2-to-stac/a898...   \n",
       "3  roda-sentinel2/workflow-sentinel2-to-stac/ccee...   \n",
       "\n",
       "   earthsearch:boa_offset_applied             processing:software  \\\n",
       "0                            True  {'sentinel2-to-stac': '0.1.1'}   \n",
       "1                            True  {'sentinel2-to-stac': '0.1.1'}   \n",
       "2                            True  {'sentinel2-to-stac': '0.1.1'}   \n",
       "3                            True  {'sentinel2-to-stac': '0.1.1'}   \n",
       "\n",
       "                    updated  \n",
       "0  2023-08-20T04:40:37.325Z  \n",
       "1  2023-08-20T04:44:38.807Z  \n",
       "2  2023-08-18T06:10:25.042Z  \n",
       "3  2023-08-15T04:07:22.379Z  \n",
       "\n",
       "[4 rows x 42 columns]"
      ]
     },
     "execution_count": 16,
     "metadata": {},
     "output_type": "execute_result"
    }
   ],
   "source": [
    "search_gdf2"
   ]
  },
  {
   "cell_type": "code",
   "execution_count": 17,
   "metadata": {},
   "outputs": [
    {
     "data": {
      "text/plain": [
       "<Axes: >"
      ]
     },
     "execution_count": 17,
     "metadata": {},
     "output_type": "execute_result"
    },
    {
     "data": {
      "image/png": "[encoded data removed]",
      "text/plain": [
       "<Figure size 640x480 with 1 Axes>"
      ]
     },
     "metadata": {},
     "output_type": "display_data"
    }
   ],
   "source": [
    "search_gdf2.plot(\"mgrs:grid_square\", alpha=0.5)"
   ]
  },
  {
   "cell_type": "code",
   "execution_count": 18,
   "metadata": {},
   "outputs": [
    {
     "data": {
      "text/plain": [
       "['https://earth-search.aws.element84.com/v1/collections/sentinel-2-l2a/items/S2B_14SQB_20230819_0_L2A',\n",
       " 'https://earth-search.aws.element84.com/v1/collections/sentinel-2-l2a/items/S2A_14SQB_20230804_0_L2A',\n",
       " 'https://earth-search.aws.element84.com/v1/collections/sentinel-2-l2a/items/S2A_14SPC_20230817_0_L2A',\n",
       " 'https://earth-search.aws.element84.com/v1/collections/sentinel-2-l2a/items/S2B_14SPB_20230819_0_L2A',\n",
       " 'https://earth-search.aws.element84.com/v1/collections/sentinel-2-l2a/items/S2A_14SPB_20230814_0_L2A',\n",
       " 'https://earth-search.aws.element84.com/v1/collections/sentinel-2-l2a/items/S2A_14SQB_20230814_0_L2A',\n",
       " 'https://earth-search.aws.element84.com/v1/collections/sentinel-2-l2a/items/S2B_14SPC_20230819_0_L2A',\n",
       " 'https://earth-search.aws.element84.com/v1/collections/sentinel-2-l2a/items/S2A_14SQC_20230817_0_L2A',\n",
       " 'https://earth-search.aws.element84.com/v1/collections/sentinel-2-l2a/items/S2A_14SPB_20230804_0_L2A',\n",
       " 'https://earth-search.aws.element84.com/v1/collections/sentinel-2-l2a/items/S2B_14SQC_20230819_0_L2A']"
      ]
     },
     "execution_count": 18,
     "metadata": {},
     "output_type": "execute_result"
    }
   ],
   "source": [
    "search"
   ]
  },
  {
   "cell_type": "code",
   "execution_count": 19,
   "metadata": {},
   "outputs": [],
   "source": [
    "search_gdf2 = leafmap.stac_search(\n",
    "    url=url,\n",
    "    max_items=4,\n",
    "    collections=[collection],\n",
    "    bbox=bbox,\n",
    "    datetime=time_range,\n",
    "    query=q,\n",
    "    get_links=True,\n",
    ")"
   ]
  },
  {
   "cell_type": "code",
   "execution_count": 20,
   "metadata": {},
   "outputs": [
    {
     "data": {
      "text/plain": [
       "['https://earth-search.aws.element84.com/v1/collections/sentinel-2-l2a/items/S2B_14SQB_20230819_0_L2A',\n",
       " 'https://earth-search.aws.element84.com/v1/collections/sentinel-2-l2a/items/S2B_14SQC_20230819_0_L2A',\n",
       " 'https://earth-search.aws.element84.com/v1/collections/sentinel-2-l2a/items/S2A_14SPC_20230817_0_L2A',\n",
       " 'https://earth-search.aws.element84.com/v1/collections/sentinel-2-l2a/items/S2A_14SPB_20230814_0_L2A']"
      ]
     },
     "execution_count": 20,
     "metadata": {},
     "output_type": "execute_result"
    }
   ],
   "source": [
    "search_gdf2"
   ]
  },
  {
   "cell_type": "markdown",
   "metadata": {},
   "source": [
    "### plot to accentuate paved and non-paved divide\n"
   ]
  },
  {
   "cell_type": "code",
   "execution_count": 21,
   "metadata": {},
   "outputs": [
    {
     "data": {
      "application/vnd.jupyter.widget-view+json": {
       "model_id": "bf089a7b764b48629c4ad291ff487276",
       "version_major": 2,
       "version_minor": 0
      },
      "text/plain": [
       "Map(center=[20, 0], controls=(ZoomControl(options=['position', 'zoom_in_text', 'zoom_in_title', 'zoom_out_text…"
      ]
     },
     "execution_count": 21,
     "metadata": {},
     "output_type": "execute_result"
    }
   ],
   "source": [
    "m = leafmap.Map()\n",
    "\n",
    "for layer in search_gdf2:\n",
    "    m.add_stac_layer(layer, bands=[\"nir\", \"red\", \"green\"], name=layer.split(\"/\")[-1])\n",
    "m"
   ]
  },
  {
   "cell_type": "markdown",
   "metadata": {},
   "source": [
    "### download files for analysis\n"
   ]
  },
  {
   "cell_type": "code",
   "execution_count": 22,
   "metadata": {},
   "outputs": [],
   "source": [
    "def get_raster_band_urls(item: str, bands: list | None = None):\n",
    "    available_bands = leafmap.stac_bands(item)\n",
    "    stac = requests.get(item).json()\n",
    "    band_urls = {\n",
    "        x: stac[\"assets\"][x][\"href\"]\n",
    "        for x in available_bands\n",
    "        if stac[\"assets\"][x][\"href\"].startswith(\"http\")\n",
    "    }\n",
    "\n",
    "    # if bands, only return bands in list\n",
    "    if bands:\n",
    "        band_urls = {x: band_urls[x] for x in bands if x in band_urls}\n",
    "\n",
    "    return band_urls\n",
    "\n",
    "\n",
    "def download_stac_layers(layers, out_dir, bands=None):\n",
    "    for layer in layers:\n",
    "        band_urls = get_raster_band_urls(layer, bands)\n",
    "        for band, url in band_urls.items():\n",
    "            print(url)\n",
    "            out_file = f\"{out_dir}/{layer.split('/')[-1]}_{band}.tif\"\n",
    "            leafmap.download_file(url, out_file, overwrite=False)\n",
    "\n",
    "\n",
    "def get_stac_crs(item):\n",
    "    stac = requests.get(item).json()\n",
    "    return stac[\"properties\"][\"proj:epsg\"]"
   ]
  },
  {
   "cell_type": "code",
   "execution_count": 23,
   "metadata": {},
   "outputs": [],
   "source": [
    "stac_crs = get_stac_crs(search_gdf2[0])"
   ]
  },
  {
   "cell_type": "code",
   "execution_count": 24,
   "metadata": {},
   "outputs": [
    {
     "data": {
      "text/plain": [
       "32614"
      ]
     },
     "execution_count": 24,
     "metadata": {},
     "output_type": "execute_result"
    }
   ],
   "source": [
    "stac_crs"
   ]
  },
  {
   "cell_type": "code",
   "execution_count": 25,
   "metadata": {},
   "outputs": [
    {
     "name": "stdout",
     "output_type": "stream",
     "text": [
      "https://sentinel-cogs.s3.us-west-2.amazonaws.com/sentinel-s2-l2a-cogs/14/S/QB/2023/8/S2B_14SQB_20230819_0_L2A/B08.tif\n",
      "../Data/stac/dallas/S2B_14SQB_20230819_0_L2A_nir.tif already exists. Skip downloading. Set overwrite=True to overwrite.\n",
      "https://sentinel-cogs.s3.us-west-2.amazonaws.com/sentinel-s2-l2a-cogs/14/S/QB/2023/8/S2B_14SQB_20230819_0_L2A/B04.tif\n",
      "../Data/stac/dallas/S2B_14SQB_20230819_0_L2A_red.tif already exists. Skip downloading. Set overwrite=True to overwrite.\n",
      "https://sentinel-cogs.s3.us-west-2.amazonaws.com/sentinel-s2-l2a-cogs/14/S/QB/2023/8/S2B_14SQB_20230819_0_L2A/B03.tif\n",
      "../Data/stac/dallas/S2B_14SQB_20230819_0_L2A_green.tif already exists. Skip downloading. Set overwrite=True to overwrite.\n",
      "https://sentinel-cogs.s3.us-west-2.amazonaws.com/sentinel-s2-l2a-cogs/14/S/QB/2023/8/S2B_14SQB_20230819_0_L2A/B02.tif\n",
      "../Data/stac/dallas/S2B_14SQB_20230819_0_L2A_blue.tif already exists. Skip downloading. Set overwrite=True to overwrite.\n",
      "https://sentinel-cogs.s3.us-west-2.amazonaws.com/sentinel-s2-l2a-cogs/14/S/QC/2023/8/S2B_14SQC_20230819_0_L2A/B08.tif\n",
      "../Data/stac/dallas/S2B_14SQC_20230819_0_L2A_nir.tif already exists. Skip downloading. Set overwrite=True to overwrite.\n",
      "https://sentinel-cogs.s3.us-west-2.amazonaws.com/sentinel-s2-l2a-cogs/14/S/QC/2023/8/S2B_14SQC_20230819_0_L2A/B04.tif\n",
      "../Data/stac/dallas/S2B_14SQC_20230819_0_L2A_red.tif already exists. Skip downloading. Set overwrite=True to overwrite.\n",
      "https://sentinel-cogs.s3.us-west-2.amazonaws.com/sentinel-s2-l2a-cogs/14/S/QC/2023/8/S2B_14SQC_20230819_0_L2A/B03.tif\n",
      "../Data/stac/dallas/S2B_14SQC_20230819_0_L2A_green.tif already exists. Skip downloading. Set overwrite=True to overwrite.\n",
      "https://sentinel-cogs.s3.us-west-2.amazonaws.com/sentinel-s2-l2a-cogs/14/S/QC/2023/8/S2B_14SQC_20230819_0_L2A/B02.tif\n",
      "../Data/stac/dallas/S2B_14SQC_20230819_0_L2A_blue.tif already exists. Skip downloading. Set overwrite=True to overwrite.\n",
      "https://sentinel-cogs.s3.us-west-2.amazonaws.com/sentinel-s2-l2a-cogs/14/S/PC/2023/8/S2A_14SPC_20230817_0_L2A/B08.tif\n",
      "../Data/stac/dallas/S2A_14SPC_20230817_0_L2A_nir.tif already exists. Skip downloading. Set overwrite=True to overwrite.\n",
      "https://sentinel-cogs.s3.us-west-2.amazonaws.com/sentinel-s2-l2a-cogs/14/S/PC/2023/8/S2A_14SPC_20230817_0_L2A/B04.tif\n",
      "../Data/stac/dallas/S2A_14SPC_20230817_0_L2A_red.tif already exists. Skip downloading. Set overwrite=True to overwrite.\n",
      "https://sentinel-cogs.s3.us-west-2.amazonaws.com/sentinel-s2-l2a-cogs/14/S/PC/2023/8/S2A_14SPC_20230817_0_L2A/B03.tif\n",
      "../Data/stac/dallas/S2A_14SPC_20230817_0_L2A_green.tif already exists. Skip downloading. Set overwrite=True to overwrite.\n",
      "https://sentinel-cogs.s3.us-west-2.amazonaws.com/sentinel-s2-l2a-cogs/14/S/PC/2023/8/S2A_14SPC_20230817_0_L2A/B02.tif\n",
      "../Data/stac/dallas/S2A_14SPC_20230817_0_L2A_blue.tif already exists. Skip downloading. Set overwrite=True to overwrite.\n",
      "https://sentinel-cogs.s3.us-west-2.amazonaws.com/sentinel-s2-l2a-cogs/14/S/PB/2023/8/S2A_14SPB_20230814_0_L2A/B08.tif\n",
      "../Data/stac/dallas/S2A_14SPB_20230814_0_L2A_nir.tif already exists. Skip downloading. Set overwrite=True to overwrite.\n",
      "https://sentinel-cogs.s3.us-west-2.amazonaws.com/sentinel-s2-l2a-cogs/14/S/PB/2023/8/S2A_14SPB_20230814_0_L2A/B04.tif\n",
      "../Data/stac/dallas/S2A_14SPB_20230814_0_L2A_red.tif already exists. Skip downloading. Set overwrite=True to overwrite.\n",
      "https://sentinel-cogs.s3.us-west-2.amazonaws.com/sentinel-s2-l2a-cogs/14/S/PB/2023/8/S2A_14SPB_20230814_0_L2A/B03.tif\n",
      "../Data/stac/dallas/S2A_14SPB_20230814_0_L2A_green.tif already exists. Skip downloading. Set overwrite=True to overwrite.\n",
      "https://sentinel-cogs.s3.us-west-2.amazonaws.com/sentinel-s2-l2a-cogs/14/S/PB/2023/8/S2A_14SPB_20230814_0_L2A/B02.tif\n",
      "../Data/stac/dallas/S2A_14SPB_20230814_0_L2A_blue.tif already exists. Skip downloading. Set overwrite=True to overwrite.\n"
     ]
    }
   ],
   "source": [
    "download_stac_layers(\n",
    "    search_gdf2,\n",
    "    \"../Data/stac/dallas\",\n",
    "    bands=[\n",
    "        \"nir\",\n",
    "        \"red\",\n",
    "        \"green\",\n",
    "        \"blue\",\n",
    "    ],  # add heat? others?\n",
    ")"
   ]
  },
  {
   "cell_type": "code",
   "execution_count": 26,
   "metadata": {},
   "outputs": [
    {
     "name": "stdout",
     "output_type": "stream",
     "text": [
      "https://sentinel-cogs.s3.us-west-2.amazonaws.com/sentinel-s2-l2a-cogs/14/S/QB/2023/8/S2B_14SQB_20230819_0_L2A/AOT.tif\n",
      "../Data/stac/dallas/S2B_14SQB_20230819_0_L2A_aot.tif already exists. Skip downloading. Set overwrite=True to overwrite.\n",
      "https://sentinel-cogs.s3.us-west-2.amazonaws.com/sentinel-s2-l2a-cogs/14/S/QB/2023/8/S2B_14SQB_20230819_0_L2A/B02.tif\n",
      "../Data/stac/dallas/S2B_14SQB_20230819_0_L2A_blue.tif already exists. Skip downloading. Set overwrite=True to overwrite.\n",
      "https://sentinel-cogs.s3.us-west-2.amazonaws.com/sentinel-s2-l2a-cogs/14/S/QB/2023/8/S2B_14SQB_20230819_0_L2A/B01.tif\n",
      "../Data/stac/dallas/S2B_14SQB_20230819_0_L2A_coastal.tif already exists. Skip downloading. Set overwrite=True to overwrite.\n",
      "https://sentinel-cogs.s3.us-west-2.amazonaws.com/sentinel-s2-l2a-cogs/14/S/QB/2023/8/S2B_14SQB_20230819_0_L2A/B03.tif\n",
      "../Data/stac/dallas/S2B_14SQB_20230819_0_L2A_green.tif already exists. Skip downloading. Set overwrite=True to overwrite.\n",
      "https://sentinel-cogs.s3.us-west-2.amazonaws.com/sentinel-s2-l2a-cogs/14/S/QB/2023/8/S2B_14SQB_20230819_0_L2A/B08.tif\n",
      "../Data/stac/dallas/S2B_14SQB_20230819_0_L2A_nir.tif already exists. Skip downloading. Set overwrite=True to overwrite.\n",
      "https://sentinel-cogs.s3.us-west-2.amazonaws.com/sentinel-s2-l2a-cogs/14/S/QB/2023/8/S2B_14SQB_20230819_0_L2A/B8A.tif\n",
      "../Data/stac/dallas/S2B_14SQB_20230819_0_L2A_nir08.tif already exists. Skip downloading. Set overwrite=True to overwrite.\n",
      "https://sentinel-cogs.s3.us-west-2.amazonaws.com/sentinel-s2-l2a-cogs/14/S/QB/2023/8/S2B_14SQB_20230819_0_L2A/B09.tif\n",
      "../Data/stac/dallas/S2B_14SQB_20230819_0_L2A_nir09.tif already exists. Skip downloading. Set overwrite=True to overwrite.\n",
      "https://sentinel-cogs.s3.us-west-2.amazonaws.com/sentinel-s2-l2a-cogs/14/S/QB/2023/8/S2B_14SQB_20230819_0_L2A/B04.tif\n",
      "../Data/stac/dallas/S2B_14SQB_20230819_0_L2A_red.tif already exists. Skip downloading. Set overwrite=True to overwrite.\n",
      "https://sentinel-cogs.s3.us-west-2.amazonaws.com/sentinel-s2-l2a-cogs/14/S/QB/2023/8/S2B_14SQB_20230819_0_L2A/B05.tif\n",
      "../Data/stac/dallas/S2B_14SQB_20230819_0_L2A_rededge1.tif already exists. Skip downloading. Set overwrite=True to overwrite.\n",
      "https://sentinel-cogs.s3.us-west-2.amazonaws.com/sentinel-s2-l2a-cogs/14/S/QB/2023/8/S2B_14SQB_20230819_0_L2A/B06.tif\n",
      "../Data/stac/dallas/S2B_14SQB_20230819_0_L2A_rededge2.tif already exists. Skip downloading. Set overwrite=True to overwrite.\n",
      "https://sentinel-cogs.s3.us-west-2.amazonaws.com/sentinel-s2-l2a-cogs/14/S/QB/2023/8/S2B_14SQB_20230819_0_L2A/B07.tif\n",
      "../Data/stac/dallas/S2B_14SQB_20230819_0_L2A_rededge3.tif already exists. Skip downloading. Set overwrite=True to overwrite.\n",
      "https://sentinel-cogs.s3.us-west-2.amazonaws.com/sentinel-s2-l2a-cogs/14/S/QB/2023/8/S2B_14SQB_20230819_0_L2A/SCL.tif\n",
      "../Data/stac/dallas/S2B_14SQB_20230819_0_L2A_scl.tif already exists. Skip downloading. Set overwrite=True to overwrite.\n",
      "https://sentinel-cogs.s3.us-west-2.amazonaws.com/sentinel-s2-l2a-cogs/14/S/QB/2023/8/S2B_14SQB_20230819_0_L2A/B11.tif\n",
      "../Data/stac/dallas/S2B_14SQB_20230819_0_L2A_swir16.tif already exists. Skip downloading. Set overwrite=True to overwrite.\n",
      "https://sentinel-cogs.s3.us-west-2.amazonaws.com/sentinel-s2-l2a-cogs/14/S/QB/2023/8/S2B_14SQB_20230819_0_L2A/B12.tif\n",
      "../Data/stac/dallas/S2B_14SQB_20230819_0_L2A_swir22.tif already exists. Skip downloading. Set overwrite=True to overwrite.\n",
      "https://sentinel-cogs.s3.us-west-2.amazonaws.com/sentinel-s2-l2a-cogs/14/S/QB/2023/8/S2B_14SQB_20230819_0_L2A/TCI.tif\n",
      "../Data/stac/dallas/S2B_14SQB_20230819_0_L2A_visual.tif already exists. Skip downloading. Set overwrite=True to overwrite.\n",
      "https://sentinel-cogs.s3.us-west-2.amazonaws.com/sentinel-s2-l2a-cogs/14/S/QB/2023/8/S2B_14SQB_20230819_0_L2A/WVP.tif\n",
      "../Data/stac/dallas/S2B_14SQB_20230819_0_L2A_wvp.tif already exists. Skip downloading. Set overwrite=True to overwrite.\n",
      "https://sentinel-cogs.s3.us-west-2.amazonaws.com/sentinel-s2-l2a-cogs/14/S/QC/2023/8/S2B_14SQC_20230819_0_L2A/AOT.tif\n",
      "../Data/stac/dallas/S2B_14SQC_20230819_0_L2A_aot.tif already exists. Skip downloading. Set overwrite=True to overwrite.\n",
      "https://sentinel-cogs.s3.us-west-2.amazonaws.com/sentinel-s2-l2a-cogs/14/S/QC/2023/8/S2B_14SQC_20230819_0_L2A/B02.tif\n",
      "../Data/stac/dallas/S2B_14SQC_20230819_0_L2A_blue.tif already exists. Skip downloading. Set overwrite=True to overwrite.\n",
      "https://sentinel-cogs.s3.us-west-2.amazonaws.com/sentinel-s2-l2a-cogs/14/S/QC/2023/8/S2B_14SQC_20230819_0_L2A/B01.tif\n",
      "../Data/stac/dallas/S2B_14SQC_20230819_0_L2A_coastal.tif already exists. Skip downloading. Set overwrite=True to overwrite.\n",
      "https://sentinel-cogs.s3.us-west-2.amazonaws.com/sentinel-s2-l2a-cogs/14/S/QC/2023/8/S2B_14SQC_20230819_0_L2A/B03.tif\n",
      "../Data/stac/dallas/S2B_14SQC_20230819_0_L2A_green.tif already exists. Skip downloading. Set overwrite=True to overwrite.\n",
      "https://sentinel-cogs.s3.us-west-2.amazonaws.com/sentinel-s2-l2a-cogs/14/S/QC/2023/8/S2B_14SQC_20230819_0_L2A/B08.tif\n",
      "../Data/stac/dallas/S2B_14SQC_20230819_0_L2A_nir.tif already exists. Skip downloading. Set overwrite=True to overwrite.\n",
      "https://sentinel-cogs.s3.us-west-2.amazonaws.com/sentinel-s2-l2a-cogs/14/S/QC/2023/8/S2B_14SQC_20230819_0_L2A/B8A.tif\n",
      "../Data/stac/dallas/S2B_14SQC_20230819_0_L2A_nir08.tif already exists. Skip downloading. Set overwrite=True to overwrite.\n",
      "https://sentinel-cogs.s3.us-west-2.amazonaws.com/sentinel-s2-l2a-cogs/14/S/QC/2023/8/S2B_14SQC_20230819_0_L2A/B09.tif\n",
      "../Data/stac/dallas/S2B_14SQC_20230819_0_L2A_nir09.tif already exists. Skip downloading. Set overwrite=True to overwrite.\n",
      "https://sentinel-cogs.s3.us-west-2.amazonaws.com/sentinel-s2-l2a-cogs/14/S/QC/2023/8/S2B_14SQC_20230819_0_L2A/B04.tif\n",
      "../Data/stac/dallas/S2B_14SQC_20230819_0_L2A_red.tif already exists. Skip downloading. Set overwrite=True to overwrite.\n",
      "https://sentinel-cogs.s3.us-west-2.amazonaws.com/sentinel-s2-l2a-cogs/14/S/QC/2023/8/S2B_14SQC_20230819_0_L2A/B05.tif\n",
      "../Data/stac/dallas/S2B_14SQC_20230819_0_L2A_rededge1.tif already exists. Skip downloading. Set overwrite=True to overwrite.\n",
      "https://sentinel-cogs.s3.us-west-2.amazonaws.com/sentinel-s2-l2a-cogs/14/S/QC/2023/8/S2B_14SQC_20230819_0_L2A/B06.tif\n",
      "../Data/stac/dallas/S2B_14SQC_20230819_0_L2A_rededge2.tif already exists. Skip downloading. Set overwrite=True to overwrite.\n",
      "https://sentinel-cogs.s3.us-west-2.amazonaws.com/sentinel-s2-l2a-cogs/14/S/QC/2023/8/S2B_14SQC_20230819_0_L2A/B07.tif\n",
      "../Data/stac/dallas/S2B_14SQC_20230819_0_L2A_rededge3.tif already exists. Skip downloading. Set overwrite=True to overwrite.\n",
      "https://sentinel-cogs.s3.us-west-2.amazonaws.com/sentinel-s2-l2a-cogs/14/S/QC/2023/8/S2B_14SQC_20230819_0_L2A/SCL.tif\n",
      "../Data/stac/dallas/S2B_14SQC_20230819_0_L2A_scl.tif already exists. Skip downloading. Set overwrite=True to overwrite.\n",
      "https://sentinel-cogs.s3.us-west-2.amazonaws.com/sentinel-s2-l2a-cogs/14/S/QC/2023/8/S2B_14SQC_20230819_0_L2A/B11.tif\n",
      "../Data/stac/dallas/S2B_14SQC_20230819_0_L2A_swir16.tif already exists. Skip downloading. Set overwrite=True to overwrite.\n",
      "https://sentinel-cogs.s3.us-west-2.amazonaws.com/sentinel-s2-l2a-cogs/14/S/QC/2023/8/S2B_14SQC_20230819_0_L2A/B12.tif\n",
      "../Data/stac/dallas/S2B_14SQC_20230819_0_L2A_swir22.tif already exists. Skip downloading. Set overwrite=True to overwrite.\n",
      "https://sentinel-cogs.s3.us-west-2.amazonaws.com/sentinel-s2-l2a-cogs/14/S/QC/2023/8/S2B_14SQC_20230819_0_L2A/TCI.tif\n",
      "../Data/stac/dallas/S2B_14SQC_20230819_0_L2A_visual.tif already exists. Skip downloading. Set overwrite=True to overwrite.\n",
      "https://sentinel-cogs.s3.us-west-2.amazonaws.com/sentinel-s2-l2a-cogs/14/S/QC/2023/8/S2B_14SQC_20230819_0_L2A/WVP.tif\n",
      "../Data/stac/dallas/S2B_14SQC_20230819_0_L2A_wvp.tif already exists. Skip downloading. Set overwrite=True to overwrite.\n",
      "https://sentinel-cogs.s3.us-west-2.amazonaws.com/sentinel-s2-l2a-cogs/14/S/PC/2023/8/S2A_14SPC_20230817_0_L2A/AOT.tif\n",
      "../Data/stac/dallas/S2A_14SPC_20230817_0_L2A_aot.tif already exists. Skip downloading. Set overwrite=True to overwrite.\n",
      "https://sentinel-cogs.s3.us-west-2.amazonaws.com/sentinel-s2-l2a-cogs/14/S/PC/2023/8/S2A_14SPC_20230817_0_L2A/B02.tif\n",
      "../Data/stac/dallas/S2A_14SPC_20230817_0_L2A_blue.tif already exists. Skip downloading. Set overwrite=True to overwrite.\n",
      "https://sentinel-cogs.s3.us-west-2.amazonaws.com/sentinel-s2-l2a-cogs/14/S/PC/2023/8/S2A_14SPC_20230817_0_L2A/B01.tif\n",
      "../Data/stac/dallas/S2A_14SPC_20230817_0_L2A_coastal.tif already exists. Skip downloading. Set overwrite=True to overwrite.\n",
      "https://sentinel-cogs.s3.us-west-2.amazonaws.com/sentinel-s2-l2a-cogs/14/S/PC/2023/8/S2A_14SPC_20230817_0_L2A/B03.tif\n",
      "../Data/stac/dallas/S2A_14SPC_20230817_0_L2A_green.tif already exists. Skip downloading. Set overwrite=True to overwrite.\n",
      "https://sentinel-cogs.s3.us-west-2.amazonaws.com/sentinel-s2-l2a-cogs/14/S/PC/2023/8/S2A_14SPC_20230817_0_L2A/B08.tif\n",
      "../Data/stac/dallas/S2A_14SPC_20230817_0_L2A_nir.tif already exists. Skip downloading. Set overwrite=True to overwrite.\n",
      "https://sentinel-cogs.s3.us-west-2.amazonaws.com/sentinel-s2-l2a-cogs/14/S/PC/2023/8/S2A_14SPC_20230817_0_L2A/B8A.tif\n",
      "../Data/stac/dallas/S2A_14SPC_20230817_0_L2A_nir08.tif already exists. Skip downloading. Set overwrite=True to overwrite.\n",
      "https://sentinel-cogs.s3.us-west-2.amazonaws.com/sentinel-s2-l2a-cogs/14/S/PC/2023/8/S2A_14SPC_20230817_0_L2A/B09.tif\n",
      "../Data/stac/dallas/S2A_14SPC_20230817_0_L2A_nir09.tif already exists. Skip downloading. Set overwrite=True to overwrite.\n",
      "https://sentinel-cogs.s3.us-west-2.amazonaws.com/sentinel-s2-l2a-cogs/14/S/PC/2023/8/S2A_14SPC_20230817_0_L2A/B04.tif\n",
      "../Data/stac/dallas/S2A_14SPC_20230817_0_L2A_red.tif already exists. Skip downloading. Set overwrite=True to overwrite.\n",
      "https://sentinel-cogs.s3.us-west-2.amazonaws.com/sentinel-s2-l2a-cogs/14/S/PC/2023/8/S2A_14SPC_20230817_0_L2A/B05.tif\n",
      "../Data/stac/dallas/S2A_14SPC_20230817_0_L2A_rededge1.tif already exists. Skip downloading. Set overwrite=True to overwrite.\n",
      "https://sentinel-cogs.s3.us-west-2.amazonaws.com/sentinel-s2-l2a-cogs/14/S/PC/2023/8/S2A_14SPC_20230817_0_L2A/B06.tif\n",
      "../Data/stac/dallas/S2A_14SPC_20230817_0_L2A_rededge2.tif already exists. Skip downloading. Set overwrite=True to overwrite.\n",
      "https://sentinel-cogs.s3.us-west-2.amazonaws.com/sentinel-s2-l2a-cogs/14/S/PC/2023/8/S2A_14SPC_20230817_0_L2A/B07.tif\n",
      "../Data/stac/dallas/S2A_14SPC_20230817_0_L2A_rededge3.tif already exists. Skip downloading. Set overwrite=True to overwrite.\n",
      "https://sentinel-cogs.s3.us-west-2.amazonaws.com/sentinel-s2-l2a-cogs/14/S/PC/2023/8/S2A_14SPC_20230817_0_L2A/SCL.tif\n",
      "../Data/stac/dallas/S2A_14SPC_20230817_0_L2A_scl.tif already exists. Skip downloading. Set overwrite=True to overwrite.\n",
      "https://sentinel-cogs.s3.us-west-2.amazonaws.com/sentinel-s2-l2a-cogs/14/S/PC/2023/8/S2A_14SPC_20230817_0_L2A/B11.tif\n",
      "../Data/stac/dallas/S2A_14SPC_20230817_0_L2A_swir16.tif already exists. Skip downloading. Set overwrite=True to overwrite.\n",
      "https://sentinel-cogs.s3.us-west-2.amazonaws.com/sentinel-s2-l2a-cogs/14/S/PC/2023/8/S2A_14SPC_20230817_0_L2A/B12.tif\n",
      "../Data/stac/dallas/S2A_14SPC_20230817_0_L2A_swir22.tif already exists. Skip downloading. Set overwrite=True to overwrite.\n",
      "https://sentinel-cogs.s3.us-west-2.amazonaws.com/sentinel-s2-l2a-cogs/14/S/PC/2023/8/S2A_14SPC_20230817_0_L2A/TCI.tif\n",
      "../Data/stac/dallas/S2A_14SPC_20230817_0_L2A_visual.tif already exists. Skip downloading. Set overwrite=True to overwrite.\n",
      "https://sentinel-cogs.s3.us-west-2.amazonaws.com/sentinel-s2-l2a-cogs/14/S/PC/2023/8/S2A_14SPC_20230817_0_L2A/WVP.tif\n",
      "../Data/stac/dallas/S2A_14SPC_20230817_0_L2A_wvp.tif already exists. Skip downloading. Set overwrite=True to overwrite.\n",
      "https://sentinel-cogs.s3.us-west-2.amazonaws.com/sentinel-s2-l2a-cogs/14/S/PB/2023/8/S2A_14SPB_20230814_0_L2A/AOT.tif\n",
      "../Data/stac/dallas/S2A_14SPB_20230814_0_L2A_aot.tif already exists. Skip downloading. Set overwrite=True to overwrite.\n",
      "https://sentinel-cogs.s3.us-west-2.amazonaws.com/sentinel-s2-l2a-cogs/14/S/PB/2023/8/S2A_14SPB_20230814_0_L2A/B02.tif\n",
      "../Data/stac/dallas/S2A_14SPB_20230814_0_L2A_blue.tif already exists. Skip downloading. Set overwrite=True to overwrite.\n",
      "https://sentinel-cogs.s3.us-west-2.amazonaws.com/sentinel-s2-l2a-cogs/14/S/PB/2023/8/S2A_14SPB_20230814_0_L2A/B01.tif\n",
      "../Data/stac/dallas/S2A_14SPB_20230814_0_L2A_coastal.tif already exists. Skip downloading. Set overwrite=True to overwrite.\n",
      "https://sentinel-cogs.s3.us-west-2.amazonaws.com/sentinel-s2-l2a-cogs/14/S/PB/2023/8/S2A_14SPB_20230814_0_L2A/B03.tif\n",
      "../Data/stac/dallas/S2A_14SPB_20230814_0_L2A_green.tif already exists. Skip downloading. Set overwrite=True to overwrite.\n",
      "https://sentinel-cogs.s3.us-west-2.amazonaws.com/sentinel-s2-l2a-cogs/14/S/PB/2023/8/S2A_14SPB_20230814_0_L2A/B08.tif\n",
      "../Data/stac/dallas/S2A_14SPB_20230814_0_L2A_nir.tif already exists. Skip downloading. Set overwrite=True to overwrite.\n",
      "https://sentinel-cogs.s3.us-west-2.amazonaws.com/sentinel-s2-l2a-cogs/14/S/PB/2023/8/S2A_14SPB_20230814_0_L2A/B8A.tif\n",
      "../Data/stac/dallas/S2A_14SPB_20230814_0_L2A_nir08.tif already exists. Skip downloading. Set overwrite=True to overwrite.\n",
      "https://sentinel-cogs.s3.us-west-2.amazonaws.com/sentinel-s2-l2a-cogs/14/S/PB/2023/8/S2A_14SPB_20230814_0_L2A/B09.tif\n",
      "../Data/stac/dallas/S2A_14SPB_20230814_0_L2A_nir09.tif already exists. Skip downloading. Set overwrite=True to overwrite.\n",
      "https://sentinel-cogs.s3.us-west-2.amazonaws.com/sentinel-s2-l2a-cogs/14/S/PB/2023/8/S2A_14SPB_20230814_0_L2A/B04.tif\n",
      "../Data/stac/dallas/S2A_14SPB_20230814_0_L2A_red.tif already exists. Skip downloading. Set overwrite=True to overwrite.\n",
      "https://sentinel-cogs.s3.us-west-2.amazonaws.com/sentinel-s2-l2a-cogs/14/S/PB/2023/8/S2A_14SPB_20230814_0_L2A/B05.tif\n",
      "../Data/stac/dallas/S2A_14SPB_20230814_0_L2A_rededge1.tif already exists. Skip downloading. Set overwrite=True to overwrite.\n",
      "https://sentinel-cogs.s3.us-west-2.amazonaws.com/sentinel-s2-l2a-cogs/14/S/PB/2023/8/S2A_14SPB_20230814_0_L2A/B06.tif\n",
      "../Data/stac/dallas/S2A_14SPB_20230814_0_L2A_rededge2.tif already exists. Skip downloading. Set overwrite=True to overwrite.\n",
      "https://sentinel-cogs.s3.us-west-2.amazonaws.com/sentinel-s2-l2a-cogs/14/S/PB/2023/8/S2A_14SPB_20230814_0_L2A/B07.tif\n",
      "../Data/stac/dallas/S2A_14SPB_20230814_0_L2A_rededge3.tif already exists. Skip downloading. Set overwrite=True to overwrite.\n",
      "https://sentinel-cogs.s3.us-west-2.amazonaws.com/sentinel-s2-l2a-cogs/14/S/PB/2023/8/S2A_14SPB_20230814_0_L2A/SCL.tif\n",
      "../Data/stac/dallas/S2A_14SPB_20230814_0_L2A_scl.tif already exists. Skip downloading. Set overwrite=True to overwrite.\n",
      "https://sentinel-cogs.s3.us-west-2.amazonaws.com/sentinel-s2-l2a-cogs/14/S/PB/2023/8/S2A_14SPB_20230814_0_L2A/B11.tif\n",
      "../Data/stac/dallas/S2A_14SPB_20230814_0_L2A_swir16.tif already exists. Skip downloading. Set overwrite=True to overwrite.\n",
      "https://sentinel-cogs.s3.us-west-2.amazonaws.com/sentinel-s2-l2a-cogs/14/S/PB/2023/8/S2A_14SPB_20230814_0_L2A/B12.tif\n",
      "../Data/stac/dallas/S2A_14SPB_20230814_0_L2A_swir22.tif already exists. Skip downloading. Set overwrite=True to overwrite.\n",
      "https://sentinel-cogs.s3.us-west-2.amazonaws.com/sentinel-s2-l2a-cogs/14/S/PB/2023/8/S2A_14SPB_20230814_0_L2A/TCI.tif\n",
      "../Data/stac/dallas/S2A_14SPB_20230814_0_L2A_visual.tif already exists. Skip downloading. Set overwrite=True to overwrite.\n",
      "https://sentinel-cogs.s3.us-west-2.amazonaws.com/sentinel-s2-l2a-cogs/14/S/PB/2023/8/S2A_14SPB_20230814_0_L2A/WVP.tif\n",
      "../Data/stac/dallas/S2A_14SPB_20230814_0_L2A_wvp.tif already exists. Skip downloading. Set overwrite=True to overwrite.\n"
     ]
    }
   ],
   "source": [
    "download_stac_layers(\n",
    "    search_gdf2,\n",
    "    \"../Data/stac/dallas\",\n",
    ")"
   ]
  },
  {
   "cell_type": "code",
   "execution_count": 27,
   "metadata": {},
   "outputs": [],
   "source": [
    "# mosaic files based on band name\n",
    "\n",
    "\n",
    "def mosaic_by_band(\n",
    "    dir,\n",
    "    bands: list = [\n",
    "        \"red\",\n",
    "        \"blue\",\n",
    "        \"green\",\n",
    "        \"nir\",\n",
    "        \"coastal\",\n",
    "        \"nir08\",\n",
    "        \"nir09\",\n",
    "        \"rededge1\",\n",
    "        \"rededge2\",\n",
    "        \"rededge3\",\n",
    "        \"scl\",\n",
    "        \"swir16\",\n",
    "        \"swir22\",\n",
    "    ],\n",
    "    crs: str = None,\n",
    "):\n",
    "    mosaics = {}\n",
    "    for band in bands:\n",
    "        files = glob.glob(f\"{dir}/*{band}.tif\")\n",
    "\n",
    "        out_file = f\"{dir}/mosaic_{band}_.tif\"\n",
    "        raster_data = [rio.open(f) for f in files]\n",
    "\n",
    "        mosaic, out_trans = merge(raster_data)\n",
    "        out_meta = raster_data[0].meta.copy()\n",
    "        out_meta.update(\n",
    "            {\n",
    "                \"driver\": \"GTiff\",\n",
    "                \"height\": mosaic.shape[1],\n",
    "                \"width\": mosaic.shape[2],\n",
    "                \"transform\": out_trans,\n",
    "                \"crs\": f\"epsg:{crs}\",\n",
    "            }\n",
    "        )\n",
    "\n",
    "        with rio.open(out_file, \"w\", **out_meta) as dest:\n",
    "            dest.write(mosaic)\n",
    "\n",
    "        mosaics[band] = out_file\n",
    "\n",
    "    return mosaics"
   ]
  },
  {
   "cell_type": "code",
   "execution_count": 28,
   "metadata": {},
   "outputs": [],
   "source": [
    "mosaic_bands = mosaic_by_band(\n",
    "    \"../Data/stac/dallas\", [\"nir\", \"red\", \"green\", \"blue\"], stac_crs\n",
    ")"
   ]
  },
  {
   "cell_type": "code",
   "execution_count": 29,
   "metadata": {},
   "outputs": [
    {
     "ename": "KeyboardInterrupt",
     "evalue": "",
     "output_type": "error",
     "traceback": [
      "\u001b[0;31m---------------------------------------------------------------------------\u001b[0m",
      "\u001b[0;31mKeyboardInterrupt\u001b[0m                         Traceback (most recent call last)",
      "Cell \u001b[0;32mIn[29], line 1\u001b[0m\n\u001b[0;32m----> 1\u001b[0m mosaic_bands_all \u001b[38;5;241m=\u001b[39m \u001b[43mmosaic_by_band\u001b[49m\u001b[43m(\u001b[49m\u001b[38;5;124;43m\"\u001b[39;49m\u001b[38;5;124;43m../Data/stac/dallas\u001b[39;49m\u001b[38;5;124;43m\"\u001b[39;49m\u001b[43m,\u001b[49m\u001b[43m \u001b[49m\u001b[43mcrs\u001b[49m\u001b[38;5;241;43m=\u001b[39;49m\u001b[43mstac_crs\u001b[49m\u001b[43m)\u001b[49m\n",
      "Cell \u001b[0;32mIn[27], line 30\u001b[0m, in \u001b[0;36mmosaic_by_band\u001b[0;34m(dir, bands, crs)\u001b[0m\n\u001b[1;32m     27\u001b[0m out_file \u001b[38;5;241m=\u001b[39m \u001b[38;5;124mf\u001b[39m\u001b[38;5;124m\"\u001b[39m\u001b[38;5;132;01m{\u001b[39;00m\u001b[38;5;28mdir\u001b[39m\u001b[38;5;132;01m}\u001b[39;00m\u001b[38;5;124m/mosaic_\u001b[39m\u001b[38;5;132;01m{\u001b[39;00mband\u001b[38;5;132;01m}\u001b[39;00m\u001b[38;5;124m_.tif\u001b[39m\u001b[38;5;124m\"\u001b[39m\n\u001b[1;32m     28\u001b[0m raster_data \u001b[38;5;241m=\u001b[39m [rio\u001b[38;5;241m.\u001b[39mopen(f) \u001b[38;5;28;01mfor\u001b[39;00m f \u001b[38;5;129;01min\u001b[39;00m files]\n\u001b[0;32m---> 30\u001b[0m mosaic, out_trans \u001b[38;5;241m=\u001b[39m \u001b[43mmerge\u001b[49m\u001b[43m(\u001b[49m\u001b[43mraster_data\u001b[49m\u001b[43m)\u001b[49m\n\u001b[1;32m     31\u001b[0m out_meta \u001b[38;5;241m=\u001b[39m raster_data[\u001b[38;5;241m0\u001b[39m]\u001b[38;5;241m.\u001b[39mmeta\u001b[38;5;241m.\u001b[39mcopy()\n\u001b[1;32m     32\u001b[0m out_meta\u001b[38;5;241m.\u001b[39mupdate(\n\u001b[1;32m     33\u001b[0m     {\n\u001b[1;32m     34\u001b[0m         \u001b[38;5;124m\"\u001b[39m\u001b[38;5;124mdriver\u001b[39m\u001b[38;5;124m\"\u001b[39m: \u001b[38;5;124m\"\u001b[39m\u001b[38;5;124mGTiff\u001b[39m\u001b[38;5;124m\"\u001b[39m,\n\u001b[0;32m   (...)\u001b[0m\n\u001b[1;32m     39\u001b[0m     }\n\u001b[1;32m     40\u001b[0m )\n",
      "File \u001b[0;32m~/opt/anaconda3/envs/cdp/lib/python3.11/site-packages/rasterio/merge.py:361\u001b[0m, in \u001b[0;36mmerge\u001b[0;34m(datasets, bounds, res, nodata, dtype, precision, indexes, output_count, resampling, method, target_aligned_pixels, dst_path, dst_kwds)\u001b[0m\n\u001b[1;32m    355\u001b[0m     temp_height, temp_width \u001b[38;5;241m=\u001b[39m (\n\u001b[1;32m    356\u001b[0m         dst_window_rnd_off\u001b[38;5;241m.\u001b[39mheight,\n\u001b[1;32m    357\u001b[0m         dst_window_rnd_off\u001b[38;5;241m.\u001b[39mwidth,\n\u001b[1;32m    358\u001b[0m     )\n\u001b[1;32m    359\u001b[0m     temp_shape \u001b[38;5;241m=\u001b[39m (src_count, temp_height, temp_width)\n\u001b[0;32m--> 361\u001b[0m     temp_src \u001b[38;5;241m=\u001b[39m \u001b[43msrc\u001b[49m\u001b[38;5;241;43m.\u001b[39;49m\u001b[43mread\u001b[49m\u001b[43m(\u001b[49m\n\u001b[1;32m    362\u001b[0m \u001b[43m        \u001b[49m\u001b[43mout_shape\u001b[49m\u001b[38;5;241;43m=\u001b[39;49m\u001b[43mtemp_shape\u001b[49m\u001b[43m,\u001b[49m\n\u001b[1;32m    363\u001b[0m \u001b[43m        \u001b[49m\u001b[43mwindow\u001b[49m\u001b[38;5;241;43m=\u001b[39;49m\u001b[43msrc_window_rnd_shp\u001b[49m\u001b[43m,\u001b[49m\n\u001b[1;32m    364\u001b[0m \u001b[43m        \u001b[49m\u001b[43mboundless\u001b[49m\u001b[38;5;241;43m=\u001b[39;49m\u001b[38;5;28;43;01mFalse\u001b[39;49;00m\u001b[43m,\u001b[49m\n\u001b[1;32m    365\u001b[0m \u001b[43m        \u001b[49m\u001b[43mmasked\u001b[49m\u001b[38;5;241;43m=\u001b[39;49m\u001b[38;5;28;43;01mTrue\u001b[39;49;00m\u001b[43m,\u001b[49m\n\u001b[1;32m    366\u001b[0m \u001b[43m        \u001b[49m\u001b[43mindexes\u001b[49m\u001b[38;5;241;43m=\u001b[39;49m\u001b[43mindexes\u001b[49m\u001b[43m,\u001b[49m\n\u001b[1;32m    367\u001b[0m \u001b[43m        \u001b[49m\u001b[43mresampling\u001b[49m\u001b[38;5;241;43m=\u001b[39;49m\u001b[43mresampling\u001b[49m\u001b[43m,\u001b[49m\n\u001b[1;32m    368\u001b[0m \u001b[43m    \u001b[49m\u001b[43m)\u001b[49m\n\u001b[1;32m    370\u001b[0m \u001b[38;5;66;03m# 5. Copy elements of temp into dest\u001b[39;00m\n\u001b[1;32m    371\u001b[0m roff, coff \u001b[38;5;241m=\u001b[39m (\n\u001b[1;32m    372\u001b[0m     \u001b[38;5;28mmax\u001b[39m(\u001b[38;5;241m0\u001b[39m, dst_window_rnd_off\u001b[38;5;241m.\u001b[39mrow_off),\n\u001b[1;32m    373\u001b[0m     \u001b[38;5;28mmax\u001b[39m(\u001b[38;5;241m0\u001b[39m, dst_window_rnd_off\u001b[38;5;241m.\u001b[39mcol_off),\n\u001b[1;32m    374\u001b[0m )\n",
      "File \u001b[0;32mrasterio/_io.pyx:673\u001b[0m, in \u001b[0;36mrasterio._io.DatasetReaderBase.read\u001b[0;34m()\u001b[0m\n",
      "File \u001b[0;32m~/opt/anaconda3/envs/cdp/lib/python3.11/site-packages/numpy/ma/core.py:6660\u001b[0m, in \u001b[0;36marray\u001b[0;34m(data, dtype, copy, order, mask, fill_value, keep_mask, hard_mask, shrink, subok, ndmin)\u001b[0m\n\u001b[1;32m   6656\u001b[0m masked \u001b[38;5;241m=\u001b[39m masked_singleton \u001b[38;5;241m=\u001b[39m MaskedConstant()\n\u001b[1;32m   6657\u001b[0m masked_array \u001b[38;5;241m=\u001b[39m MaskedArray\n\u001b[0;32m-> 6660\u001b[0m \u001b[38;5;28;01mdef\u001b[39;00m \u001b[38;5;21marray\u001b[39m(data, dtype\u001b[38;5;241m=\u001b[39m\u001b[38;5;28;01mNone\u001b[39;00m, copy\u001b[38;5;241m=\u001b[39m\u001b[38;5;28;01mFalse\u001b[39;00m, order\u001b[38;5;241m=\u001b[39m\u001b[38;5;28;01mNone\u001b[39;00m,\n\u001b[1;32m   6661\u001b[0m           mask\u001b[38;5;241m=\u001b[39mnomask, fill_value\u001b[38;5;241m=\u001b[39m\u001b[38;5;28;01mNone\u001b[39;00m, keep_mask\u001b[38;5;241m=\u001b[39m\u001b[38;5;28;01mTrue\u001b[39;00m,\n\u001b[1;32m   6662\u001b[0m           hard_mask\u001b[38;5;241m=\u001b[39m\u001b[38;5;28;01mFalse\u001b[39;00m, shrink\u001b[38;5;241m=\u001b[39m\u001b[38;5;28;01mTrue\u001b[39;00m, subok\u001b[38;5;241m=\u001b[39m\u001b[38;5;28;01mTrue\u001b[39;00m, ndmin\u001b[38;5;241m=\u001b[39m\u001b[38;5;241m0\u001b[39m):\n\u001b[1;32m   6663\u001b[0m \u001b[38;5;250m    \u001b[39m\u001b[38;5;124;03m\"\"\"\u001b[39;00m\n\u001b[1;32m   6664\u001b[0m \u001b[38;5;124;03m    Shortcut to MaskedArray.\u001b[39;00m\n\u001b[1;32m   6665\u001b[0m \n\u001b[0;32m   (...)\u001b[0m\n\u001b[1;32m   6668\u001b[0m \n\u001b[1;32m   6669\u001b[0m \u001b[38;5;124;03m    \"\"\"\u001b[39;00m\n\u001b[1;32m   6670\u001b[0m     \u001b[38;5;28;01mreturn\u001b[39;00m MaskedArray(data, mask\u001b[38;5;241m=\u001b[39mmask, dtype\u001b[38;5;241m=\u001b[39mdtype, copy\u001b[38;5;241m=\u001b[39mcopy,\n\u001b[1;32m   6671\u001b[0m                        subok\u001b[38;5;241m=\u001b[39msubok, keep_mask\u001b[38;5;241m=\u001b[39mkeep_mask,\n\u001b[1;32m   6672\u001b[0m                        hard_mask\u001b[38;5;241m=\u001b[39mhard_mask, fill_value\u001b[38;5;241m=\u001b[39mfill_value,\n\u001b[1;32m   6673\u001b[0m                        ndmin\u001b[38;5;241m=\u001b[39mndmin, shrink\u001b[38;5;241m=\u001b[39mshrink, order\u001b[38;5;241m=\u001b[39morder)\n",
      "\u001b[0;31mKeyboardInterrupt\u001b[0m: "
     ]
    }
   ],
   "source": [
    "mosaic_bands_all = mosaic_by_band(\"../Data/stac/dallas\", crs=stac_crs)"
   ]
  },
  {
   "cell_type": "code",
   "execution_count": null,
   "metadata": {},
   "outputs": [
    {
     "data": {
      "text/plain": [
       "{'red': '../Data/stac/dallas/mosaic_red_.tif',\n",
       " 'blue': '../Data/stac/dallas/mosaic_blue_.tif',\n",
       " 'green': '../Data/stac/dallas/mosaic_green_.tif',\n",
       " 'nir': '../Data/stac/dallas/mosaic_nir_.tif',\n",
       " 'coastal': '../Data/stac/dallas/mosaic_coastal_.tif',\n",
       " 'nir08': '../Data/stac/dallas/mosaic_nir08_.tif',\n",
       " 'nir09': '../Data/stac/dallas/mosaic_nir09_.tif',\n",
       " 'rededge1': '../Data/stac/dallas/mosaic_rededge1_.tif',\n",
       " 'rededge2': '../Data/stac/dallas/mosaic_rededge2_.tif',\n",
       " 'rededge3': '../Data/stac/dallas/mosaic_rededge3_.tif',\n",
       " 'scl': '../Data/stac/dallas/mosaic_scl_.tif',\n",
       " 'swir16': '../Data/stac/dallas/mosaic_swir16_.tif',\n",
       " 'swir22': '../Data/stac/dallas/mosaic_swir22_.tif'}"
      ]
     },
     "execution_count": 29,
     "metadata": {},
     "output_type": "execute_result"
    }
   ],
   "source": [
    "mosaic_bands_all"
   ]
  },
  {
   "cell_type": "code",
   "execution_count": null,
   "metadata": {},
   "outputs": [],
   "source": [
    "# load, calculate ndvi, visualize ndvi\n",
    "# segment based on visual spectrum, classify\n",
    "# repeat whole process for past image (in a more programmatic way)\n",
    "# diff the two to see what change has occurred"
   ]
  },
  {
   "cell_type": "code",
   "execution_count": null,
   "metadata": {},
   "outputs": [],
   "source": [
    "nir = rio.open(mosaic_bands[\"nir\"]).read(1).astype(\"float32\")\n",
    "red = rio.open(mosaic_bands[\"red\"]).read(1).astype(\"float32\")"
   ]
  },
  {
   "cell_type": "markdown",
   "metadata": {},
   "source": [
    "### calculate NDVI\n"
   ]
  },
  {
   "cell_type": "code",
   "execution_count": null,
   "metadata": {},
   "outputs": [],
   "source": [
    "ndvi = (nir - red) / (nir + red)"
   ]
  },
  {
   "cell_type": "code",
   "execution_count": null,
   "metadata": {},
   "outputs": [],
   "source": [
    "import numpy as np"
   ]
  },
  {
   "cell_type": "code",
   "execution_count": null,
   "metadata": {},
   "outputs": [],
   "source": [
    "# fill nan with -2, outside of the range but not so far outside\n",
    "ndvi[np.isnan(ndvi)] = -1.1"
   ]
  },
  {
   "cell_type": "code",
   "execution_count": null,
   "metadata": {},
   "outputs": [
    {
     "data": {
      "text/plain": [
       "array([[ 0.32408434,  0.29939127,  0.29359823, ...,  0.73136204,\n",
       "         0.7670886 ,  0.78903455],\n",
       "       [ 0.30212304,  0.2733051 ,  0.2877433 , ...,  0.76618594,\n",
       "         0.78105634,  0.79848444],\n",
       "       [ 0.3       ,  0.26897264,  0.30549684, ...,  0.7636706 ,\n",
       "         0.79545456,  0.79603904],\n",
       "       ...,\n",
       "       [-1.1       , -1.1       , -1.1       , ...,  0.28807947,\n",
       "         0.2891073 ,  0.29392514],\n",
       "       [-1.1       , -1.1       , -1.1       , ...,  0.29233292,\n",
       "         0.2876599 ,  0.28513405],\n",
       "       [-1.1       , -1.1       , -1.1       , ...,  0.31071576,\n",
       "         0.28517744,  0.31913063]], dtype=float32)"
      ]
     },
     "execution_count": 35,
     "metadata": {},
     "output_type": "execute_result"
    }
   ],
   "source": [
    "ndvi"
   ]
  },
  {
   "cell_type": "code",
   "execution_count": null,
   "metadata": {},
   "outputs": [],
   "source": [
    "ndvi_mult = ndvi * 10"
   ]
  },
  {
   "cell_type": "code",
   "execution_count": null,
   "metadata": {},
   "outputs": [
    {
     "data": {
      "text/plain": [
       "array([[  3.2408433,   2.9939127,   2.9359822, ...,   7.3136206,\n",
       "          7.670886 ,   7.8903456],\n",
       "       [  3.0212305,   2.7330508,   2.877433 , ...,   7.6618595,\n",
       "          7.8105636,   7.984844 ],\n",
       "       [  3.       ,   2.6897264,   3.0549684, ...,   7.6367064,\n",
       "          7.9545455,   7.9603906],\n",
       "       ...,\n",
       "       [-11.       , -11.       , -11.       , ...,   2.8807948,\n",
       "          2.891073 ,   2.9392514],\n",
       "       [-11.       , -11.       , -11.       , ...,   2.923329 ,\n",
       "          2.876599 ,   2.8513405],\n",
       "       [-11.       , -11.       , -11.       , ...,   3.1071577,\n",
       "          2.8517745,   3.1913064]], dtype=float32)"
      ]
     },
     "execution_count": 37,
     "metadata": {},
     "output_type": "execute_result"
    }
   ],
   "source": [
    "ndvi_mult"
   ]
  },
  {
   "cell_type": "code",
   "execution_count": null,
   "metadata": {},
   "outputs": [],
   "source": [
    "ndvi_image = leafmap.array_to_image(ndvi, source=mosaic_bands[\"nir\"])"
   ]
  },
  {
   "cell_type": "code",
   "execution_count": null,
   "metadata": {},
   "outputs": [],
   "source": [
    "ndvi_multi_image = leafmap.array_to_image(ndvi_mult, source=mosaic_bands[\"nir\"])"
   ]
  },
  {
   "cell_type": "code",
   "execution_count": null,
   "metadata": {},
   "outputs": [
    {
     "data": {
      "application/vnd.jupyter.widget-view+json": {
       "model_id": "2c3cb12aaab340d0b4e3e6fe8a078cb9",
       "version_major": 2,
       "version_minor": 0
      },
      "text/plain": [
       "Map(center=[20, 0], controls=(ZoomControl(options=['position', 'zoom_in_text', 'zoom_in_title', 'zoom_out_text…"
      ]
     },
     "execution_count": 40,
     "metadata": {},
     "output_type": "execute_result"
    }
   ],
   "source": [
    "m = leafmap.Map()\n",
    "m.add_raster(ndvi_multi_image, layer_name=\"NDVI\", vmin=-10, vmax=10, cmap=\"PiYG\")\n",
    "m"
   ]
  },
  {
   "cell_type": "code",
   "execution_count": null,
   "metadata": {},
   "outputs": [
    {
     "data": {
      "text/plain": [
       "(array([5.7000000e+01, 0.0000000e+00, 0.0000000e+00, 1.0000000e+00,\n",
       "        2.0000000e+00, 1.0000000e+00, 0.0000000e+00, 1.0000000e+00,\n",
       "        2.0000000e+00, 1.0000000e+00, 2.0000000e+00, 4.0000000e+00,\n",
       "        1.0000000e+00, 1.0000000e+00, 3.0000000e+00, 1.0000000e+01,\n",
       "        1.0000000e+01, 1.0000000e+01, 2.7000000e+01, 1.4700000e+02,\n",
       "        6.3600000e+02, 1.3640000e+03, 1.4790000e+03, 2.6710000e+03,\n",
       "        5.2370000e+03, 6.9870000e+03, 9.1550000e+03, 1.8464000e+04,\n",
       "        3.7073000e+04, 5.0988000e+04, 7.2843000e+04, 1.1190700e+05,\n",
       "        1.5366500e+05, 2.3110500e+05, 3.2345700e+05, 4.0822500e+05,\n",
       "        5.2722800e+05, 6.9380200e+05, 8.5093400e+05, 1.0165810e+06,\n",
       "        1.1823630e+06, 1.2174660e+06, 1.0118850e+06, 7.9349600e+05,\n",
       "        6.9472200e+05, 5.7537000e+05, 4.0910700e+05, 3.4246100e+05,\n",
       "        4.1178000e+05, 7.7444100e+05, 1.2370100e+06, 1.5880700e+06,\n",
       "        1.8083620e+06, 1.9410370e+06, 1.9965380e+06, 2.2970060e+06,\n",
       "        3.2331510e+06, 5.0899390e+06, 6.6565210e+06, 8.0960360e+06,\n",
       "        9.5996230e+06, 1.0968146e+07, 1.1962795e+07, 1.2672979e+07,\n",
       "        1.3119616e+07, 1.3410461e+07, 1.3542010e+07, 1.3527483e+07,\n",
       "        1.3347554e+07, 1.3069835e+07, 1.2661224e+07, 1.2177713e+07,\n",
       "        1.1639812e+07, 1.0981368e+07, 1.0240417e+07, 9.5548320e+06,\n",
       "        8.8472080e+06, 8.2176520e+06, 7.6543090e+06, 7.2020150e+06,\n",
       "        6.8619890e+06, 6.6813470e+06, 6.6061510e+06, 6.6721990e+06,\n",
       "        6.8427730e+06, 7.1737950e+06, 7.6912440e+06, 8.4589600e+06,\n",
       "        9.4882560e+06, 1.0616471e+07, 1.1144607e+07, 9.0338710e+06,\n",
       "        3.9759800e+06, 7.0527300e+05, 4.0283000e+04, 2.3200000e+03,\n",
       "        4.1000000e+01, 1.8000000e+01, 1.6000000e+01, 2.9600000e+02]),\n",
       " array([-9.98553872e-01, -9.78573978e-01, -9.58594084e-01, -9.38614190e-01,\n",
       "        -9.18634295e-01, -8.98654401e-01, -8.78674507e-01, -8.58694613e-01,\n",
       "        -8.38714719e-01, -8.18734825e-01, -7.98754930e-01, -7.78775036e-01,\n",
       "        -7.58795142e-01, -7.38815248e-01, -7.18835354e-01, -6.98855460e-01,\n",
       "        -6.78875566e-01, -6.58895731e-01, -6.38915837e-01, -6.18935943e-01,\n",
       "        -5.98956048e-01, -5.78976154e-01, -5.58996260e-01, -5.39016366e-01,\n",
       "        -5.19036472e-01, -4.99056578e-01, -4.79076684e-01, -4.59096789e-01,\n",
       "        -4.39116895e-01, -4.19137001e-01, -3.99157107e-01, -3.79177213e-01,\n",
       "        -3.59197319e-01, -3.39217424e-01, -3.19237530e-01, -2.99257636e-01,\n",
       "        -2.79277742e-01, -2.59297848e-01, -2.39317968e-01, -2.19338074e-01,\n",
       "        -1.99358180e-01, -1.79378286e-01, -1.59398392e-01, -1.39418498e-01,\n",
       "        -1.19438611e-01, -9.94587168e-02, -7.94788226e-02, -5.94989322e-02,\n",
       "        -3.95190381e-02, -1.95391458e-02,  4.40746546e-04,  2.04206388e-02,\n",
       "         4.04005311e-02,  6.03804253e-02,  8.03603157e-02,  1.00340210e-01,\n",
       "         1.20320104e-01,  1.40299991e-01,  1.60279885e-01,  1.80259779e-01,\n",
       "         2.00239673e-01,  2.20219567e-01,  2.40199462e-01,  2.60179341e-01,\n",
       "         2.80159235e-01,  3.00139129e-01,  3.20119023e-01,  3.40098917e-01,\n",
       "         3.60078812e-01,  3.80058706e-01,  4.00038600e-01,  4.20018494e-01,\n",
       "         4.39998388e-01,  4.59978282e-01,  4.79958177e-01,  4.99938041e-01,\n",
       "         5.19917965e-01,  5.39897859e-01,  5.59877753e-01,  5.79857647e-01,\n",
       "         5.99837542e-01,  6.19817436e-01,  6.39797330e-01,  6.59777224e-01,\n",
       "         6.79757059e-01,  6.99736953e-01,  7.19716847e-01,  7.39696741e-01,\n",
       "         7.59676635e-01,  7.79656529e-01,  7.99636424e-01,  8.19616318e-01,\n",
       "         8.39596212e-01,  8.59576106e-01,  8.79556000e-01,  8.99535894e-01,\n",
       "         9.19515789e-01,  9.39495683e-01,  9.59475577e-01,  9.79455471e-01,\n",
       "         9.99435365e-01]),\n",
       " <BarContainer object of 100 artists>)"
      ]
     },
     "execution_count": 41,
     "metadata": {},
     "output_type": "execute_result"
    },
    {
     "data": {
      "image/png": "[encoded data removed]",
      "text/plain": [
       "<Figure size 640x480 with 1 Axes>"
      ]
     },
     "metadata": {},
     "output_type": "display_data"
    }
   ],
   "source": [
    "# get histogram of ndvi image values\n",
    "\n",
    "import matplotlib.pyplot as plt\n",
    "\n",
    "plt.hist(ndvi[ndvi != -1.1].ravel(), bins=100, color=\"red\", alpha=0.7)"
   ]
  },
  {
   "cell_type": "code",
   "execution_count": null,
   "metadata": {},
   "outputs": [],
   "source": [
    "def categorize_np_array(array):\n",
    "\n",
    "    cat_array = np.zeros(array.shape)\n",
    "    cat_array[array < 1] = 5\n",
    "    cat_array[array < 0.8] = 4\n",
    "    cat_array[array < 0.6] = 3\n",
    "    cat_array[array < 0.4] = 2\n",
    "    cat_array[array < 0.2] = 1\n",
    "\n",
    "    return cat_array"
   ]
  },
  {
   "cell_type": "code",
   "execution_count": null,
   "metadata": {},
   "outputs": [],
   "source": [
    "cat_ndvi = categorize_np_array(ndvi)"
   ]
  },
  {
   "cell_type": "code",
   "execution_count": null,
   "metadata": {},
   "outputs": [
    {
     "data": {
      "text/plain": [
       "array([[2., 2., 2., ..., 4., 4., 4.],\n",
       "       [2., 2., 2., ..., 4., 4., 4.],\n",
       "       [2., 2., 2., ..., 4., 4., 4.],\n",
       "       ...,\n",
       "       [1., 1., 1., ..., 2., 2., 2.],\n",
       "       [1., 1., 1., ..., 2., 2., 2.],\n",
       "       [1., 1., 1., ..., 2., 2., 2.]])"
      ]
     },
     "execution_count": 44,
     "metadata": {},
     "output_type": "execute_result"
    }
   ],
   "source": [
    "cat_ndvi"
   ]
  },
  {
   "cell_type": "code",
   "execution_count": null,
   "metadata": {},
   "outputs": [],
   "source": [
    "ndvi_image_cat = leafmap.array_to_image(cat_ndvi, source=mosaic_bands[\"nir\"])"
   ]
  },
  {
   "cell_type": "code",
   "execution_count": null,
   "metadata": {},
   "outputs": [
    {
     "data": {
      "application/vnd.jupyter.widget-view+json": {
       "model_id": "c874e10169a841f492e92ce76539fea3",
       "version_major": 2,
       "version_minor": 0
      },
      "text/plain": [
       "Map(center=[20, 0], controls=(ZoomControl(options=['position', 'zoom_in_text', 'zoom_in_title', 'zoom_out_text…"
      ]
     },
     "execution_count": 46,
     "metadata": {},
     "output_type": "execute_result"
    }
   ],
   "source": [
    "m = leafmap.Map()\n",
    "m.add_raster(\n",
    "    ndvi_image_cat, layer_name=\"NDVI\", vmin=1, vmax=5, cmap=\"Set1\", draw_control=False\n",
    ")\n",
    "m.add_colormap(\n",
    "    \"Set1\",\n",
    "    label=\"ndvi\",\n",
    "    width=8.0,\n",
    "    height=0.4,\n",
    "    orientation=\"horizontal\",\n",
    "    vmin=1,\n",
    "    vmax=5,\n",
    ")\n",
    "\n",
    "m"
   ]
  },
  {
   "cell_type": "code",
   "execution_count": null,
   "metadata": {},
   "outputs": [],
   "source": [
    "# plot using"
   ]
  },
  {
   "cell_type": "markdown",
   "metadata": {},
   "source": [
    "## k-means\n"
   ]
  },
  {
   "cell_type": "code",
   "execution_count": null,
   "metadata": {},
   "outputs": [],
   "source": [
    "def resample_raster(in_file, out_file, upscale_factor=0.5):\n",
    "    with rio.open(in_file) as dataset:\n",
    "\n",
    "        # resample data to target shape\n",
    "        data = dataset.read(\n",
    "            out_shape=(\n",
    "                dataset.count,\n",
    "                int(dataset.height * upscale_factor),\n",
    "                int(dataset.width * upscale_factor),\n",
    "            ),\n",
    "            resampling=rio.enums.Resampling.bilinear,\n",
    "        )\n",
    "\n",
    "        # scale image transform\n",
    "        transform = dataset.transform * dataset.transform.scale(\n",
    "            (dataset.width / data.shape[-1]), (dataset.height / data.shape[-2])\n",
    "        )\n",
    "\n",
    "        # update metadata\n",
    "        meta = dataset.meta.copy()\n",
    "        meta.update(\n",
    "            {\n",
    "                \"height\": data.shape[1],\n",
    "                \"width\": data.shape[2],\n",
    "                \"transform\": transform,\n",
    "            }\n",
    "        )\n",
    "\n",
    "        with rio.open(out_file, \"w\", **meta) as dst:\n",
    "            dst.write(data)"
   ]
  },
  {
   "cell_type": "code",
   "execution_count": null,
   "metadata": {},
   "outputs": [],
   "source": [
    "for band in mosaic_bands_all.keys():\n",
    "    print(band, rio.open(mosaic_bands_all[band]).read(1).shape)"
   ]
  },
  {
   "cell_type": "code",
   "execution_count": null,
   "metadata": {},
   "outputs": [],
   "source": [
    "# set resampling ratio for each band- note that some are higher resolution than others and need a different scaling factor\n",
    "bands_to_resample = {\n",
    "    \"red\": 0.25,\n",
    "    \"blue\": 0.25,\n",
    "    \"green\": 0.25,\n",
    "    \"nir\": 0.25,\n",
    "    \"nir08\": 0.5,\n",
    "    \"rededge1\": 0.5,\n",
    "    \"rededge2\": 0.5,\n",
    "    \"rededge3\": 0.5,\n",
    "    \"scl\": 0.5,\n",
    "    \"swir16\": 0.5,\n",
    "    \"swir22\": 0.5,\n",
    "}"
   ]
  },
  {
   "cell_type": "code",
   "execution_count": null,
   "metadata": {},
   "outputs": [
    {
     "ename": "NameError",
     "evalue": "name 'bands_to_resample' is not defined",
     "output_type": "error",
     "traceback": [
      "\u001b[0;31m---------------------------------------------------------------------------\u001b[0m",
      "\u001b[0;31mNameError\u001b[0m                                 Traceback (most recent call last)",
      "Cell \u001b[0;32mIn[1], line 1\u001b[0m\n\u001b[0;32m----> 1\u001b[0m \u001b[38;5;28;01mfor\u001b[39;00m band, ratio \u001b[38;5;129;01min\u001b[39;00m \u001b[43mbands_to_resample\u001b[49m\u001b[38;5;241m.\u001b[39mitems():\n\u001b[1;32m      2\u001b[0m     resample_raster(\n\u001b[1;32m      3\u001b[0m         mosaic_bands_all[band], \u001b[38;5;124mf\u001b[39m\u001b[38;5;124m\"\u001b[39m\u001b[38;5;124m../Data/stac/dallas/upscaled_\u001b[39m\u001b[38;5;132;01m{\u001b[39;00mband\u001b[38;5;132;01m}\u001b[39;00m\u001b[38;5;124m.tif\u001b[39m\u001b[38;5;124m\"\u001b[39m, ratio\n\u001b[1;32m      4\u001b[0m     )\n\u001b[1;32m      5\u001b[0m     mosaic_bands_all[\u001b[38;5;124mf\u001b[39m\u001b[38;5;124m\"\u001b[39m\u001b[38;5;132;01m{\u001b[39;00mband\u001b[38;5;132;01m}\u001b[39;00m\u001b[38;5;124m\"\u001b[39m] \u001b[38;5;241m=\u001b[39m \u001b[38;5;124mf\u001b[39m\u001b[38;5;124m\"\u001b[39m\u001b[38;5;124m../Data/stac/dallas/\u001b[39m\u001b[38;5;132;01m{\u001b[39;00mband\u001b[38;5;132;01m}\u001b[39;00m\u001b[38;5;124m_scaled_.tif\u001b[39m\u001b[38;5;124m\"\u001b[39m\n",
      "\u001b[0;31mNameError\u001b[0m: name 'bands_to_resample' is not defined"
     ]
    }
   ],
   "source": [
    "# resample the bands so they are all smaller and uniform\n",
    "for band, ratio in bands_to_resample.items():\n",
    "    resample_raster(\n",
    "        mosaic_bands_all[band], f\"../Data/stac/dallas/upscaled_{band}.tif\", ratio\n",
    "    )\n",
    "    mosaic_bands_all[f\"{band}\"] = f\"../Data/stac/dallas/{band}_scaled_.tif\""
   ]
  },
  {
   "cell_type": "code",
   "execution_count": null,
   "metadata": {},
   "outputs": [
    {
     "data": {
      "text/plain": [
       "{'red': '../Data/stac/dallas/upscaled_red.tif',\n",
       " 'blue': '../Data/stac/dallas/upscaled_blue.tif',\n",
       " 'green': '../Data/stac/dallas/upscaled_green.tif',\n",
       " 'nir': '../Data/stac/dallas/upscaled_nir.tif',\n",
       " 'coastal': '../Data/stac/dallas/mosaic_coastal_.tif',\n",
       " 'nir08': '../Data/stac/dallas/mosaic_nir08_.tif',\n",
       " 'nir09': '../Data/stac/dallas/mosaic_nir09_.tif',\n",
       " 'rededge1': '../Data/stac/dallas/mosaic_rededge1_.tif',\n",
       " 'rededge2': '../Data/stac/dallas/mosaic_rededge2_.tif',\n",
       " 'rededge3': '../Data/stac/dallas/mosaic_rededge3_.tif',\n",
       " 'scl': '../Data/stac/dallas/mosaic_scl_.tif',\n",
       " 'swir16': '../Data/stac/dallas/mosaic_swir16_.tif',\n",
       " 'swir22': '../Data/stac/dallas/mosaic_swir22_.tif'}"
      ]
     },
     "execution_count": 83,
     "metadata": {},
     "output_type": "execute_result"
    }
   ],
   "source": [
    "mosaic_bands_all"
   ]
  },
  {
   "cell_type": "code",
   "execution_count": null,
   "metadata": {},
   "outputs": [],
   "source": [
    "# create a new dict with all bands excpct coastal\n",
    "mosaic_bands_all_no_coastal = {\n",
    "    k: v for k, v in mosaic_bands_all.items() if k not in [\"coastal\", \"nir09\"]\n",
    "}"
   ]
  },
  {
   "cell_type": "code",
   "execution_count": null,
   "metadata": {},
   "outputs": [
    {
     "name": "stdout",
     "output_type": "stream",
     "text": [
      "red (10491, 10488)\n",
      "blue (10491, 10488)\n",
      "green (10491, 10488)\n",
      "nir (10491, 10488)\n",
      "nir08 (10491, 10488)\n",
      "rededge1 (10491, 10488)\n",
      "rededge2 (10491, 10488)\n",
      "rededge3 (10491, 10488)\n",
      "scl (10491, 10488)\n",
      "swir16 (10491, 10488)\n",
      "swir22 (10491, 10488)\n"
     ]
    }
   ],
   "source": [
    "for band in mosaic_bands_all_no_coastal.keys():\n",
    "    print(band, rio.open(mosaic_bands_all_no_coastal[band]).read(1).shape)\n",
    "\n",
    "mosaic_bands_all_no_coastal = np.stack(\n",
    "    [\n",
    "        rio.open(mosaic_bands_all_no_coastal[band]).read(1)\n",
    "        for band in mosaic_bands_all_no_coastal.keys()\n",
    "    ],\n",
    "    axis=-1,\n",
    ")"
   ]
  },
  {
   "cell_type": "code",
   "execution_count": null,
   "metadata": {},
   "outputs": [],
   "source": [
    "from rasterio.plot import reshape_as_raster, reshape_as_image"
   ]
  },
  {
   "cell_type": "code",
   "execution_count": null,
   "metadata": {},
   "outputs": [],
   "source": [
    "reshaped_img = reshape_as_image(mosaic_bands_all_no_coastal)"
   ]
  },
  {
   "cell_type": "code",
   "execution_count": null,
   "metadata": {},
   "outputs": [
    {
     "ename": "NameError",
     "evalue": "name 'class_prediction' is not defined",
     "output_type": "error",
     "traceback": [
      "\u001b[0;31m---------------------------------------------------------------------------\u001b[0m",
      "\u001b[0;31mNameError\u001b[0m                                 Traceback (most recent call last)",
      "Cell \u001b[0;32mIn[68], line 9\u001b[0m\n\u001b[1;32m      5\u001b[0m     \u001b[38;5;28;01mreturn\u001b[39;00m colors\n\u001b[1;32m      8\u001b[0m \u001b[38;5;66;03m# find the highest pixel value in the prediction image\u001b[39;00m\n\u001b[0;32m----> 9\u001b[0m n \u001b[38;5;241m=\u001b[39m \u001b[38;5;28mint\u001b[39m(np\u001b[38;5;241m.\u001b[39mmax(\u001b[43mclass_prediction\u001b[49m))\n\u001b[1;32m     11\u001b[0m \u001b[38;5;66;03m# next setup a colormap for our map\u001b[39;00m\n\u001b[1;32m     12\u001b[0m colors \u001b[38;5;241m=\u001b[39m \u001b[38;5;28mdict\u001b[39m(\n\u001b[1;32m     13\u001b[0m     (\n\u001b[1;32m     14\u001b[0m         (\u001b[38;5;241m0\u001b[39m, (\u001b[38;5;241m48\u001b[39m, \u001b[38;5;241m156\u001b[39m, \u001b[38;5;241m214\u001b[39m, \u001b[38;5;241m255\u001b[39m)),  \u001b[38;5;66;03m# Blue - Water\u001b[39;00m\n\u001b[0;32m   (...)\u001b[0m\n\u001b[1;32m     20\u001b[0m     )\n\u001b[1;32m     21\u001b[0m )\n",
      "\u001b[0;31mNameError\u001b[0m: name 'class_prediction' is not defined"
     ]
    }
   ],
   "source": [
    "def color_stretch(image, index):\n",
    "    colors = image[:, :, index].astype(np.float64)\n",
    "    for b in range(colors.shape[2]):\n",
    "        colors[:, :, b] = rasterio.plot.adjust_band(colors[:, :, b])\n",
    "    return colors\n",
    "\n",
    "\n",
    "# find the highest pixel value in the prediction image\n",
    "n = int(np.max(class_prediction))\n",
    "\n",
    "# next setup a colormap for our map\n",
    "colors = dict(\n",
    "    (\n",
    "        (0, (48, 156, 214, 255)),  # Blue - Water\n",
    "        (1, (139, 69, 19, 255)),  # Brown - WetSand\n",
    "        (2, (96, 19, 134, 255)),  # Purple - Emergent Wetland\n",
    "        (3, (244, 164, 96, 255)),  # Tan - Sand\n",
    "        (4, (206, 224, 196, 255)),  # Lime - Herbaceous\n",
    "        (5, (34, 139, 34, 255)),  # Forest Green - Forest\n",
    "    )\n",
    ")\n",
    "\n",
    "# Put 0 - 255 as float 0 - 1\n",
    "for k in colors:\n",
    "    v = colors[k]\n",
    "    _v = [_v / 255.0 for _v in v]\n",
    "    colors[k] = _v\n",
    "\n",
    "index_colors = [\n",
    "    colors[key] if key in colors else (255, 255, 255, 0) for key in range(0, n + 1)\n",
    "]\n",
    "\n",
    "cmap = plt.matplotlib.colors.ListedColormap(index_colors, \"Classification\", n + 1)"
   ]
  },
  {
   "cell_type": "code",
   "execution_count": null,
   "metadata": {},
   "outputs": [
    {
     "ename": "",
     "evalue": "",
     "output_type": "error",
     "traceback": [
      "\u001b[1;31mThe Kernel crashed while executing code in the current cell or a previous cell. \n",
      "\u001b[1;31mPlease review the code in the cell(s) to identify a possible cause of the failure. \n",
      "\u001b[1;31mClick <a href='https://aka.ms/vscodeJupyterKernelCrash'>here</a> for more info. \n",
      "\u001b[1;31mView Jupyter <a href='command:jupyter.viewOutput'>log</a> for further details."
     ]
    }
   ],
   "source": [
    "from sklearn.cluster import KMeans\n",
    "\n",
    "bands, rows, cols = mosaic_bands_all_no_coastal.shape\n",
    "\n",
    "k = 10  # num of clusters\n",
    "\n",
    "kmeans_predictions = KMeans(n_clusters=k, random_state=0).fit(\n",
    "    reshaped_img.reshape(-1, 4)\n",
    ")\n",
    "\n",
    "kmeans_predictions_2d = kmeans_predictions.labels_.reshape(rows, cols)\n",
    "\n",
    "# Now show the classmap next to the image\n",
    "# fig, axs = plt.subplots(1,2,figsize=(15,8))\n",
    "\n",
    "# img_stretched = color_stretch(reshaped_img, [3, 2, 1])\n",
    "# axs[0].imshow(img_stretched)\n",
    "\n",
    "# axs[1].imshow(kmeans_predictions_2d)"
   ]
  },
  {
   "cell_type": "code",
   "execution_count": null,
   "metadata": {},
   "outputs": [],
   "source": [
    "stop"
   ]
  },
  {
   "cell_type": "markdown",
   "metadata": {},
   "source": [
    "## landsat\n"
   ]
  },
  {
   "cell_type": "markdown",
   "metadata": {},
   "source": []
  },
  {
   "cell_type": "code",
   "execution_count": null,
   "metadata": {},
   "outputs": [],
   "source": [
    "url = \"https://earth-search.aws.element84.com/v1/\"\n",
    "collection = \"landsat-c2-l2\"\n",
    "time_range = \"2023-08-01/2023-08-31\""
   ]
  },
  {
   "cell_type": "code",
   "execution_count": null,
   "metadata": {},
   "outputs": [],
   "source": [
    "# bbox for dallas metro\n",
    "bbox = [\n",
    "    -97.06213756027009,\n",
    "    32.97324551867027,\n",
    "    -96.46807822577594,\n",
    "    33.3578329610085,\n",
    "]"
   ]
  },
  {
   "cell_type": "code",
   "execution_count": null,
   "metadata": {},
   "outputs": [],
   "source": [
    "search = leafmap.stac_search(\n",
    "    url=url,\n",
    "    max_items=10,\n",
    "    collections=[collection],\n",
    "    bbox=bbox,\n",
    "    datetime=time_range,\n",
    "    query={\"eo:cloud_cover\": {\"lt\": 20}},\n",
    "    sortby=[{\"field\": \"properties.eo:cloud_cover\", \"direction\": \"asc\"}],\n",
    "    get_links=True,\n",
    ")\n",
    "search"
   ]
  },
  {
   "cell_type": "code",
   "execution_count": null,
   "metadata": {},
   "outputs": [],
   "source": [
    "m = leafmap.Map()\n",
    "\n",
    "# for layer in search[0]:\n",
    "m.add_stac_layer(search[0], bands=[\"nir08\", \"red\", \"green\"], name=layer.split(\"/\")[-1])\n",
    "m"
   ]
  },
  {
   "cell_type": "code",
   "execution_count": null,
   "metadata": {},
   "outputs": [],
   "source": []
  },
  {
   "cell_type": "markdown",
   "metadata": {},
   "source": [
    "## classify using samples\n"
   ]
  },
  {
   "cell_type": "code",
   "execution_count": null,
   "metadata": {},
   "outputs": [],
   "source": [
    "import geopandas as gpd"
   ]
  },
  {
   "cell_type": "code",
   "execution_count": null,
   "metadata": {},
   "outputs": [
    {
     "data": {
      "text/html": [
       "<div>\n",
       "<style scoped>\n",
       "    .dataframe tbody tr th:only-of-type {\n",
       "        vertical-align: middle;\n",
       "    }\n",
       "\n",
       "    .dataframe tbody tr th {\n",
       "        vertical-align: top;\n",
       "    }\n",
       "\n",
       "    .dataframe thead th {\n",
       "        text-align: right;\n",
       "    }\n",
       "</style>\n",
       "<table border=\"1\" class=\"dataframe\">\n",
       "  <thead>\n",
       "    <tr style=\"text-align: right;\">\n",
       "      <th></th>\n",
       "      <th>type</th>\n",
       "      <th>geometry</th>\n",
       "    </tr>\n",
       "  </thead>\n",
       "  <tbody>\n",
       "    <tr>\n",
       "      <th>0</th>\n",
       "      <td>None</td>\n",
       "      <td>None</td>\n",
       "    </tr>\n",
       "    <tr>\n",
       "      <th>1</th>\n",
       "      <td>golf</td>\n",
       "      <td>POLYGON ((-96.90516 33.04001, -96.90676 33.038...</td>\n",
       "    </tr>\n",
       "    <tr>\n",
       "      <th>2</th>\n",
       "      <td>wetland</td>\n",
       "      <td>POLYGON ((-96.88824 33.05067, -96.88980 33.049...</td>\n",
       "    </tr>\n",
       "    <tr>\n",
       "      <th>3</th>\n",
       "      <td>industrial</td>\n",
       "      <td>POLYGON ((-96.91752 33.05633, -96.91691 33.055...</td>\n",
       "    </tr>\n",
       "    <tr>\n",
       "      <th>4</th>\n",
       "      <td>deep water</td>\n",
       "      <td>POLYGON ((-96.93657 33.07736, -96.93907 33.074...</td>\n",
       "    </tr>\n",
       "    <tr>\n",
       "      <th>...</th>\n",
       "      <td>...</td>\n",
       "      <td>...</td>\n",
       "    </tr>\n",
       "    <tr>\n",
       "      <th>74</th>\n",
       "      <td>urban</td>\n",
       "      <td>POLYGON ((-96.66727 32.79627, -96.66489 32.795...</td>\n",
       "    </tr>\n",
       "    <tr>\n",
       "      <th>75</th>\n",
       "      <td>urban</td>\n",
       "      <td>POLYGON ((-96.66537 32.79916, -96.66544 32.797...</td>\n",
       "    </tr>\n",
       "    <tr>\n",
       "      <th>76</th>\n",
       "      <td>urban</td>\n",
       "      <td>POLYGON ((-96.67495 32.79557, -96.67499 32.794...</td>\n",
       "    </tr>\n",
       "    <tr>\n",
       "      <th>77</th>\n",
       "      <td>urban</td>\n",
       "      <td>POLYGON ((-96.67810 32.79755, -96.67817 32.796...</td>\n",
       "    </tr>\n",
       "    <tr>\n",
       "      <th>78</th>\n",
       "      <td>roadway</td>\n",
       "      <td>POLYGON ((-96.68573 32.79747, -96.68570 32.797...</td>\n",
       "    </tr>\n",
       "  </tbody>\n",
       "</table>\n",
       "<p>79 rows × 2 columns</p>\n",
       "</div>"
      ],
      "text/plain": [
       "          type                                           geometry\n",
       "0         None                                               None\n",
       "1         golf  POLYGON ((-96.90516 33.04001, -96.90676 33.038...\n",
       "2      wetland  POLYGON ((-96.88824 33.05067, -96.88980 33.049...\n",
       "3   industrial  POLYGON ((-96.91752 33.05633, -96.91691 33.055...\n",
       "4   deep water  POLYGON ((-96.93657 33.07736, -96.93907 33.074...\n",
       "..         ...                                                ...\n",
       "74       urban  POLYGON ((-96.66727 32.79627, -96.66489 32.795...\n",
       "75       urban  POLYGON ((-96.66537 32.79916, -96.66544 32.797...\n",
       "76       urban  POLYGON ((-96.67495 32.79557, -96.67499 32.794...\n",
       "77       urban  POLYGON ((-96.67810 32.79755, -96.67817 32.796...\n",
       "78     roadway  POLYGON ((-96.68573 32.79747, -96.68570 32.797...\n",
       "\n",
       "[79 rows x 2 columns]"
      ]
     },
     "metadata": {},
     "output_type": "display_data"
    }
   ],
   "source": [
    "# use a random forest classifier to classify the image using samples from the geojson dataset\n",
    "samples = gpd.read_file(\"./data.geojson\")\n",
    "\n",
    "samples"
   ]
  },
  {
   "cell_type": "code",
   "execution_count": null,
   "metadata": {},
   "outputs": [],
   "source": [
    "from sklearn.ensemble import RandomForestClassifier"
   ]
  },
  {
   "cell_type": "code",
   "execution_count": null,
   "metadata": {},
   "outputs": [],
   "source": []
  },
  {
   "cell_type": "code",
   "execution_count": null,
   "metadata": {},
   "outputs": [],
   "source": [
    "rf = RandomForestClassifier(n_estimators=500, oob_score=True)\n",
    "\n",
    "# create matricies for the classifier by loading in the mosaic bands and creating a multiband array\n",
    "mosaic_data = np.stack(\n",
    "    [rio.open(mosaic_bands[band]).read(1) for band in [\"nir\", \"red\", \"green\", \"blue\"]],\n",
    "    axis=-1,\n",
    ")\n",
    "\n",
    "# reshape the data to be 2d\n",
    "X = mosaic_data.reshape(-1, 4)"
   ]
  },
  {
   "cell_type": "code",
   "execution_count": null,
   "metadata": {},
   "outputs": [
    {
     "data": {
      "text/plain": [
       "array([[2386, 1218,  908,  648],\n",
       "       [2348, 1266,  922,  672],\n",
       "       [2344, 1280,  992,  714],\n",
       "       ...,\n",
       "       [3168, 1666, 1274,  952],\n",
       "       [3078, 1712, 1270,  916],\n",
       "       [3065, 1582, 1208,  924]], dtype=uint16)"
      ]
     },
     "metadata": {},
     "output_type": "display_data"
    }
   ],
   "source": [
    "X"
   ]
  },
  {
   "cell_type": "code",
   "execution_count": null,
   "metadata": {},
   "outputs": [],
   "source": [
    "samples_diss = samples.dissolve(by=\"type\").reset_index()"
   ]
  },
  {
   "cell_type": "code",
   "execution_count": null,
   "metadata": {},
   "outputs": [],
   "source": [
    "samples[\"class\"] = samples[\"type\"].astype(\"category\").cat.codes"
   ]
  },
  {
   "cell_type": "code",
   "execution_count": null,
   "metadata": {},
   "outputs": [
    {
     "data": {
      "text/plain": [
       "array([-1,  3, 11,  4,  1,  7,  6,  0,  2,  8,  9, 10,  5], dtype=int8)"
      ]
     },
     "metadata": {},
     "output_type": "display_data"
    }
   ],
   "source": [
    "samples[\"class\"].unique()"
   ]
  },
  {
   "cell_type": "code",
   "execution_count": null,
   "metadata": {},
   "outputs": [],
   "source": [
    "ref_raster = rio.open(mosaic_bands[\"nir\"])"
   ]
  },
  {
   "cell_type": "code",
   "execution_count": null,
   "metadata": {},
   "outputs": [],
   "source": [
    "samples.geometry.dropna(inplace=True)"
   ]
  },
  {
   "cell_type": "code",
   "execution_count": null,
   "metadata": {},
   "outputs": [
    {
     "data": {
      "text/plain": [
       "Affine(10.0, 0.0, 600000.0,\n",
       "       0.0, -10.0, 3800040.0)"
      ]
     },
     "metadata": {},
     "output_type": "display_data"
    }
   ],
   "source": [
    "ref_raster.transform"
   ]
  },
  {
   "cell_type": "code",
   "execution_count": null,
   "metadata": {},
   "outputs": [
    {
     "data": {
      "text/plain": [
       "CRS.from_epsg(32614)"
      ]
     },
     "metadata": {},
     "output_type": "display_data"
    }
   ],
   "source": [
    "ref_raster.crs"
   ]
  },
  {
   "cell_type": "code",
   "execution_count": null,
   "metadata": {},
   "outputs": [],
   "source": [
    "samples.to_crs(ref_raster.crs, inplace=True)"
   ]
  },
  {
   "cell_type": "code",
   "execution_count": null,
   "metadata": {},
   "outputs": [],
   "source": [
    "samples.dropna(inplace=True)"
   ]
  },
  {
   "cell_type": "code",
   "execution_count": null,
   "metadata": {},
   "outputs": [
    {
     "data": {
      "text/plain": [
       "array([ 3, 11,  4,  1,  7,  6,  0,  2,  8,  9, 10,  5], dtype=int8)"
      ]
     },
     "metadata": {},
     "output_type": "display_data"
    }
   ],
   "source": [
    "samples[\"class\"].unique()"
   ]
  },
  {
   "cell_type": "code",
   "execution_count": null,
   "metadata": {},
   "outputs": [
    {
     "name": "stdout",
     "output_type": "stream",
     "text": [
      "<class 'shapely.geometry.polygon.Polygon'> 3\n",
      "<class 'shapely.geometry.polygon.Polygon'> 11\n",
      "<class 'shapely.geometry.polygon.Polygon'> 4\n",
      "<class 'shapely.geometry.polygon.Polygon'> 1\n",
      "<class 'shapely.geometry.polygon.Polygon'> 7\n",
      "<class 'shapely.geometry.polygon.Polygon'> 6\n",
      "<class 'shapely.geometry.polygon.Polygon'> 0\n",
      "<class 'shapely.geometry.polygon.Polygon'> 0\n",
      "<class 'shapely.geometry.polygon.Polygon'> 2\n",
      "<class 'shapely.geometry.polygon.Polygon'> 11\n",
      "<class 'shapely.geometry.polygon.Polygon'> 2\n",
      "<class 'shapely.geometry.polygon.Polygon'> 6\n",
      "<class 'shapely.geometry.polygon.Polygon'> 6\n",
      "<class 'shapely.geometry.polygon.Polygon'> 8\n",
      "<class 'shapely.geometry.polygon.Polygon'> 8\n",
      "<class 'shapely.geometry.polygon.Polygon'> 8\n",
      "<class 'shapely.geometry.polygon.Polygon'> 8\n",
      "<class 'shapely.geometry.polygon.Polygon'> 8\n",
      "<class 'shapely.geometry.polygon.Polygon'> 8\n",
      "<class 'shapely.geometry.polygon.Polygon'> 8\n",
      "<class 'shapely.geometry.polygon.Polygon'> 8\n",
      "<class 'shapely.geometry.polygon.Polygon'> 9\n",
      "<class 'shapely.geometry.polygon.Polygon'> 9\n",
      "<class 'shapely.geometry.polygon.Polygon'> 8\n",
      "<class 'shapely.geometry.polygon.Polygon'> 8\n",
      "<class 'shapely.geometry.polygon.Polygon'> 8\n",
      "<class 'shapely.geometry.polygon.Polygon'> 8\n",
      "<class 'shapely.geometry.polygon.Polygon'> 8\n",
      "<class 'shapely.geometry.polygon.Polygon'> 8\n",
      "<class 'shapely.geometry.polygon.Polygon'> 8\n",
      "<class 'shapely.geometry.polygon.Polygon'> 8\n",
      "<class 'shapely.geometry.polygon.Polygon'> 8\n",
      "<class 'shapely.geometry.polygon.Polygon'> 6\n",
      "<class 'shapely.geometry.polygon.Polygon'> 6\n",
      "<class 'shapely.geometry.polygon.Polygon'> 10\n",
      "<class 'shapely.geometry.polygon.Polygon'> 10\n",
      "<class 'shapely.geometry.polygon.Polygon'> 10\n",
      "<class 'shapely.geometry.polygon.Polygon'> 10\n",
      "<class 'shapely.geometry.polygon.Polygon'> 10\n",
      "<class 'shapely.geometry.polygon.Polygon'> 10\n",
      "<class 'shapely.geometry.polygon.Polygon'> 10\n",
      "<class 'shapely.geometry.polygon.Polygon'> 10\n",
      "<class 'shapely.geometry.polygon.Polygon'> 10\n",
      "<class 'shapely.geometry.polygon.Polygon'> 10\n",
      "<class 'shapely.geometry.polygon.Polygon'> 10\n",
      "<class 'shapely.geometry.polygon.Polygon'> 10\n",
      "<class 'shapely.geometry.polygon.Polygon'> 10\n",
      "<class 'shapely.geometry.polygon.Polygon'> 10\n",
      "<class 'shapely.geometry.polygon.Polygon'> 10\n",
      "<class 'shapely.geometry.polygon.Polygon'> 10\n",
      "<class 'shapely.geometry.polygon.Polygon'> 10\n",
      "<class 'shapely.geometry.polygon.Polygon'> 10\n",
      "<class 'shapely.geometry.polygon.Polygon'> 10\n",
      "<class 'shapely.geometry.polygon.Polygon'> 9\n",
      "<class 'shapely.geometry.polygon.Polygon'> 9\n",
      "<class 'shapely.geometry.polygon.Polygon'> 9\n",
      "<class 'shapely.geometry.polygon.Polygon'> 9\n",
      "<class 'shapely.geometry.polygon.Polygon'> 9\n",
      "<class 'shapely.geometry.polygon.Polygon'> 9\n",
      "<class 'shapely.geometry.polygon.Polygon'> 9\n",
      "<class 'shapely.geometry.polygon.Polygon'> 9\n",
      "<class 'shapely.geometry.polygon.Polygon'> 9\n",
      "<class 'shapely.geometry.polygon.Polygon'> 5\n",
      "<class 'shapely.geometry.polygon.Polygon'> 5\n",
      "<class 'shapely.geometry.polygon.Polygon'> 5\n",
      "<class 'shapely.geometry.polygon.Polygon'> 5\n",
      "<class 'shapely.geometry.polygon.Polygon'> 5\n",
      "<class 'shapely.geometry.polygon.Polygon'> 5\n",
      "<class 'shapely.geometry.polygon.Polygon'> 5\n",
      "<class 'shapely.geometry.polygon.Polygon'> 5\n",
      "<class 'shapely.geometry.polygon.Polygon'> 5\n",
      "<class 'shapely.geometry.polygon.Polygon'> 5\n",
      "<class 'shapely.geometry.polygon.Polygon'> 1\n",
      "<class 'shapely.geometry.polygon.Polygon'> 10\n",
      "<class 'shapely.geometry.polygon.Polygon'> 10\n",
      "<class 'shapely.geometry.polygon.Polygon'> 10\n",
      "<class 'shapely.geometry.polygon.Polygon'> 10\n",
      "<class 'shapely.geometry.polygon.Polygon'> 6\n"
     ]
    }
   ],
   "source": [
    "# print each value pair in geom_value\n",
    "for geom, value in zip(samples.geometry, samples[\"class\"]):\n",
    "    print(type(geom), value)"
   ]
  },
  {
   "cell_type": "code",
   "execution_count": null,
   "metadata": {},
   "outputs": [
    {
     "data": {
      "text/plain": [
       "<Projected CRS: EPSG:32614>\n",
       "Name: WGS 84 / UTM zone 14N\n",
       "Axis Info [cartesian]:\n",
       "- [east]: Easting (metre)\n",
       "- [north]: Northing (metre)\n",
       "Area of Use:\n",
       "- undefined\n",
       "Coordinate Operation:\n",
       "- name: UTM zone 14N\n",
       "- method: Transverse Mercator\n",
       "Datum: World Geodetic System 1984\n",
       "- Ellipsoid: WGS 84\n",
       "- Prime Meridian: Greenwich"
      ]
     },
     "metadata": {},
     "output_type": "display_data"
    }
   ],
   "source": [
    "samples.crs"
   ]
  },
  {
   "cell_type": "code",
   "execution_count": null,
   "metadata": {},
   "outputs": [],
   "source": [
    "geom_value = (\n",
    "    (geom, value) for geom, value in zip(samples[\"geometry\"], samples[\"class\"])\n",
    ")\n",
    "\n",
    "# geom = [g for g, v in geom_value if g is not None]\n",
    "\n",
    "# Rasterize vector using the shape and transform of the raster\n",
    "rasterized = rio.features.rasterize(\n",
    "    geom_value,\n",
    "    out_shape=ref_raster.shape,\n",
    "    transform=ref_raster.transform,\n",
    "    all_touched=True,\n",
    "    fill=-2,  # background value\n",
    "    # default_value=1,\n",
    "    merge_alg=rio.enums.MergeAlg.replace,\n",
    "    dtype=np.int16,\n",
    ")\n",
    "\n",
    "# geom_value,\n",
    "# out_shape = raster.shape,\n",
    "# transform = raster.transform,\n",
    "# all_touched = True,\n",
    "# fill = -5,   # background value\n",
    "# merge_alg = MergeAlg.replace,\n",
    "# dtype = int16)"
   ]
  },
  {
   "cell_type": "code",
   "execution_count": null,
   "metadata": {},
   "outputs": [
    {
     "data": {
      "text/plain": [
       "array([-2,  0,  1,  2,  3,  4,  5,  6,  7,  8,  9, 10, 11], dtype=int16)"
      ]
     },
     "metadata": {},
     "output_type": "display_data"
    }
   ],
   "source": [
    "# get uniqe values in the rasterized array\n",
    "np.unique(rasterized)"
   ]
  },
  {
   "cell_type": "code",
   "execution_count": null,
   "metadata": {},
   "outputs": [
    {
     "data": {
      "text/plain": [
       "array([ 3, 11,  4,  1,  7,  6,  0,  2,  8,  9, 10,  5], dtype=int8)"
      ]
     },
     "metadata": {},
     "output_type": "display_data"
    }
   ],
   "source": [
    "samples[\"class\"].unique()"
   ]
  },
  {
   "cell_type": "code",
   "execution_count": null,
   "metadata": {},
   "outputs": [
    {
     "data": {
      "image/png": "[encoded data removed]",
      "text/plain": [
       "<Figure size 1000x1000 with 1 Axes>"
      ]
     },
     "metadata": {},
     "output_type": "display_data"
    }
   ],
   "source": [
    "fig, ax = plt.subplots(1, figsize=(10, 10))\n",
    "rio.plot.show(\n",
    "    rasterized,\n",
    "    ax=ax,\n",
    ")\n",
    "plt.gca().invert_yaxis()"
   ]
  },
  {
   "cell_type": "code",
   "execution_count": null,
   "metadata": {},
   "outputs": [
    {
     "ename": "NameError",
     "evalue": "name 'stop' is not defined",
     "output_type": "error",
     "traceback": [
      "\u001b[0;31m---------------------------------------------------------------------------\u001b[0m\n",
      "\u001b[0;31mNameError\u001b[0m                                 Traceback (most recent call last)\n",
      "Cell \u001b[0;32mIn[69], line 1\u001b[0m\n",
      "\u001b[0;32m----> 1\u001b[0m \u001b[43mstop\u001b[49m\n",
      "\n",
      "\u001b[0;31mNameError\u001b[0m: name 'stop' is not defined"
     ]
    }
   ],
   "source": [
    "stop"
   ]
  },
  {
   "cell_type": "code",
   "execution_count": null,
   "metadata": {},
   "outputs": [],
   "source": [
    "# now make y the rasterized array\n",
    "y = rasterized.reshape(-1)"
   ]
  },
  {
   "cell_type": "code",
   "execution_count": null,
   "metadata": {},
   "outputs": [],
   "source": [
    "# fit the model\n",
    "rf.fit(X, y)"
   ]
  },
  {
   "cell_type": "code",
   "execution_count": null,
   "metadata": {},
   "outputs": [],
   "source": [
    "print(\"Our OOB prediction of accuracy is: {oob}%\".format(oob=rf.oob_score_ * 100))"
   ]
  },
  {
   "cell_type": "code",
   "execution_count": null,
   "metadata": {},
   "outputs": [],
   "source": [
    "bands = [\"nir\", \"red\", \"green\", \"blue\"]\n",
    "\n",
    "\n",
    "for b, imp in zip(bands, rf.feature_importances_):\n",
    "    print(\"Band {b} importance: {imp}\".format(b=b, imp=imp))"
   ]
  }
 ],
 "metadata": {
  "kernelspec": {
   "display_name": "cdp",
   "language": "python",
   "name": "python3"
  },
  "language_info": {
   "codemirror_mode": {
    "name": "ipython",
    "version": 3
   },
   "file_extension": ".py",
   "mimetype": "text/x-python",
   "name": "python",
   "nbconvert_exporter": "python",
   "pygments_lexer": "ipython3",
   "version": "3.11.9"
  }
 },
 "nbformat": 4,
 "nbformat_minor": 2
}
