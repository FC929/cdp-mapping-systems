{
 "cells": [
  {
   "cell_type": "markdown",
   "metadata": {},
   "source": [
    "# Calculating change over time\n"
   ]
  },
  {
   "cell_type": "markdown",
   "metadata": {},
   "source": [
    "## imports\n"
   ]
  },
  {
   "cell_type": "code",
   "execution_count": null,
   "metadata": {},
   "outputs": [],
   "source": [
    "import leafmap\n",
    "import requests\n",
    "import rasterio as rio\n",
    "import glob"
   ]
  },
  {
   "cell_type": "markdown",
   "metadata": {},
   "source": [
    "## searching for data\n"
   ]
  },
  {
   "cell_type": "code",
   "execution_count": null,
   "metadata": {},
   "outputs": [],
   "source": [
    "url = \"https://earth-search.aws.element84.com/v1/\"\n",
    "collection = \"sentinel-2-l2a\"\n",
    "time_range = \"2023-08-01/2023-08-31\""
   ]
  },
  {
   "cell_type": "code",
   "execution_count": null,
   "metadata": {},
   "outputs": [],
   "source": [
    "# bbox for dallas metro\n",
    "bbox = [\n",
    "    -97.06213756027009,\n",
    "    32.97324551867027,\n",
    "    -96.46807822577594,\n",
    "    33.3578329610085,\n",
    "]"
   ]
  },
  {
   "cell_type": "code",
   "execution_count": null,
   "metadata": {},
   "outputs": [],
   "source": [
    "search = leafmap.stac_search(\n",
    "    url=url,\n",
    "    max_items=10,\n",
    "    collections=[collection],\n",
    "    bbox=bbox,\n",
    "    datetime=time_range,\n",
    "    query={\"eo:cloud_cover\": {\"lt\": 20}},\n",
    "    sortby=[{\"field\": \"properties.eo:cloud_cover\", \"direction\": \"asc\"}],\n",
    "    get_links=True,\n",
    ")\n",
    "search"
   ]
  },
  {
   "cell_type": "code",
   "execution_count": null,
   "metadata": {},
   "outputs": [],
   "source": [
    "search_gdf = leafmap.stac_search(\n",
    "    url=url,\n",
    "    max_items=10,\n",
    "    collections=[collection],\n",
    "    bbox=bbox,\n",
    "    datetime=time_range,\n",
    "    query={\"eo:cloud_cover\": {\"lt\": 20}},\n",
    "    sortby=[{\"field\": \"properties.eo:cloud_cover\", \"direction\": \"asc\"}],\n",
    "    get_gdf=True,\n",
    ")"
   ]
  },
  {
   "cell_type": "code",
   "execution_count": null,
   "metadata": {},
   "outputs": [],
   "source": [
    "search_gdf.columns"
   ]
  },
  {
   "cell_type": "markdown",
   "metadata": {},
   "source": [
    "## exploring and filtering search results\n"
   ]
  },
  {
   "cell_type": "code",
   "execution_count": null,
   "metadata": {},
   "outputs": [],
   "source": [
    "search_gdf.plot(\"mgrs:grid_square\", alpha=0.25)"
   ]
  },
  {
   "cell_type": "code",
   "execution_count": null,
   "metadata": {},
   "outputs": [],
   "source": [
    "search_gdf[\"s2:granule_id\"].value_counts()"
   ]
  },
  {
   "cell_type": "code",
   "execution_count": null,
   "metadata": {},
   "outputs": [],
   "source": [
    "search_gdf[\"area\"] = search_gdf.geometry.area"
   ]
  },
  {
   "cell_type": "code",
   "execution_count": null,
   "metadata": {},
   "outputs": [],
   "source": [
    "search_gdf.sort_values(\"area\", ascending=False, inplace=True)"
   ]
  },
  {
   "cell_type": "code",
   "execution_count": null,
   "metadata": {},
   "outputs": [],
   "source": [
    "search_gdf"
   ]
  },
  {
   "cell_type": "code",
   "execution_count": null,
   "metadata": {},
   "outputs": [],
   "source": [
    "search_gdf.drop_duplicates(\"mgrs:grid_square\", inplace=True)"
   ]
  },
  {
   "cell_type": "code",
   "execution_count": null,
   "metadata": {},
   "outputs": [],
   "source": [
    "search_gdf.iloc[0:4].plot(\"s2:granule_id\", alpha=0.5)"
   ]
  },
  {
   "cell_type": "code",
   "execution_count": null,
   "metadata": {},
   "outputs": [],
   "source": [
    "# # create a query searching for unique datastrip ids based on the above\n",
    "q = {\"s2:granule_id\": {\"in\": search_gdf[\"s2:granule_id\"].iloc[0:4].unique().tolist()}}\n",
    "\n",
    "search_gdf2 = leafmap.stac_search(\n",
    "    url=url,\n",
    "    max_items=4,\n",
    "    collections=[collection],\n",
    "    bbox=bbox,\n",
    "    datetime=time_range,\n",
    "    query=q,\n",
    "    get_gdf=True,\n",
    ")"
   ]
  },
  {
   "cell_type": "code",
   "execution_count": null,
   "metadata": {},
   "outputs": [],
   "source": [
    "search_gdf2"
   ]
  },
  {
   "cell_type": "code",
   "execution_count": null,
   "metadata": {},
   "outputs": [],
   "source": [
    "search_gdf2.plot(\"mgrs:grid_square\", alpha=0.5)"
   ]
  },
  {
   "cell_type": "code",
   "execution_count": null,
   "metadata": {},
   "outputs": [],
   "source": [
    "search"
   ]
  },
  {
   "cell_type": "code",
   "execution_count": null,
   "metadata": {},
   "outputs": [],
   "source": [
    "search_gdf2 = leafmap.stac_search(\n",
    "    url=url,\n",
    "    max_items=4,\n",
    "    collections=[collection],\n",
    "    bbox=bbox,\n",
    "    datetime=time_range,\n",
    "    query=q,\n",
    "    get_links=True,\n",
    ")"
   ]
  },
  {
   "cell_type": "code",
   "execution_count": null,
   "metadata": {},
   "outputs": [],
   "source": [
    "search_gdf2"
   ]
  },
  {
   "cell_type": "markdown",
   "metadata": {},
   "source": [
    "### plot to accentuate paved and non-paved divide\n"
   ]
  },
  {
   "cell_type": "code",
   "execution_count": null,
   "metadata": {},
   "outputs": [],
   "source": [
    "m = leafmap.Map()\n",
    "\n",
    "for layer in search_gdf2:\n",
    "    m.add_stac_layer(layer, bands=[\"nir\", \"red\", \"green\"], name=layer.split(\"/\")[-1])\n",
    "m"
   ]
  },
  {
   "cell_type": "markdown",
   "metadata": {},
   "source": [
    "### download files for analysis\n"
   ]
  },
  {
   "cell_type": "code",
   "execution_count": null,
   "metadata": {},
   "outputs": [],
   "source": [
    "def get_raster_band_urls(item: str, bands: list | None = None):\n",
    "    available_bands = leafmap.stac_bands(item)\n",
    "    stac = requests.get(item).json()\n",
    "    band_urls = {x: stac[\"assets\"][x][\"href\"] for x in available_bands}\n",
    "\n",
    "    # if bands, only return bands in list\n",
    "    if bands:\n",
    "        band_urls = {x: band_urls[x] for x in bands if x in band_urls}\n",
    "\n",
    "    return band_urls\n",
    "\n",
    "\n",
    "def download_stac_layers(layers, out_dir, bands=None):\n",
    "    for layer in layers:\n",
    "        band_urls = get_raster_band_urls(layer, bands)\n",
    "        for band, url in band_urls.items():\n",
    "            out_file = f\"{out_dir}/{layer.split('/')[-1]}_{band}.tif\"\n",
    "            leafmap.download_file(url, out_file, overwrite=True)\n",
    "\n",
    "\n",
    "def get_stac_crs(item):\n",
    "    stac = requests.get(item).json()\n",
    "    return stac[\"properties\"][\"proj:epsg\"]"
   ]
  },
  {
   "cell_type": "code",
   "execution_count": null,
   "metadata": {},
   "outputs": [],
   "source": [
    "stac_crs = get_stac_crs(search_gdf2[0])"
   ]
  },
  {
   "cell_type": "code",
   "execution_count": null,
   "metadata": {},
   "outputs": [],
   "source": [
    "stac_crs"
   ]
  },
  {
   "cell_type": "code",
   "execution_count": null,
   "metadata": {},
   "outputs": [],
   "source": [
    "download_stac_layers(\n",
    "    search_gdf2, \"../Data/stac/dallas\", bands=[\"nir\", \"red\", \"green\", \"blue\"]\n",
    ")"
   ]
  },
  {
   "cell_type": "code",
   "execution_count": null,
   "metadata": {},
   "outputs": [],
   "source": []
  },
  {
   "cell_type": "code",
   "execution_count": null,
   "metadata": {},
   "outputs": [],
   "source": [
    "# mosaic files based on band name\n",
    "\n",
    "\n",
    "def mosaic_by_band(dir, bands, crs):\n",
    "    mosaics = {}\n",
    "    for band in bands:\n",
    "        files = glob.glob(f\"{dir}/*{band}.tif\")\n",
    "\n",
    "        out_file = f\"{dir}/mosaic_{band}.tif\"\n",
    "        raster_data = [rio.open(f) for f in files]\n",
    "\n",
    "        mosaic, out_trans = rio.merge.merge(raster_data)\n",
    "        out_meta = raster_data[0].meta.copy()\n",
    "        out_meta.update(\n",
    "            {\n",
    "                \"driver\": \"GTiff\",\n",
    "                \"height\": mosaic.shape[1],\n",
    "                \"width\": mosaic.shape[2],\n",
    "                \"transform\": out_trans,\n",
    "                \"crs\": f\"epsg:{crs}\",\n",
    "            }\n",
    "        )\n",
    "\n",
    "        with rio.open(out_file, \"w\", **out_meta) as dest:\n",
    "            dest.write(mosaic)\n",
    "\n",
    "        mosaics[band] = out_file\n",
    "\n",
    "    return mosaics"
   ]
  },
  {
   "cell_type": "code",
   "execution_count": null,
   "metadata": {},
   "outputs": [],
   "source": [
    "mosaic_bands = mosaic_by_band(\n",
    "    \"../Data/stac/dallas\", [\"nir\", \"red\", \"green\", \"blue\"], stac_crs\n",
    ")"
   ]
  },
  {
   "cell_type": "code",
   "execution_count": null,
   "metadata": {},
   "outputs": [],
   "source": [
    "mosaic_bands"
   ]
  },
  {
   "cell_type": "code",
   "execution_count": null,
   "metadata": {},
   "outputs": [],
   "source": [
    "# load, calculate ndvi, visualize ndvi\n",
    "# segment based on visual spectrum, classify\n",
    "# repeat whole process for past image (in a more programmatic way)\n",
    "# diff the two to see what change has occurred"
   ]
  },
  {
   "cell_type": "code",
   "execution_count": null,
   "metadata": {},
   "outputs": [],
   "source": [
    "nir = rio.open(mosaic_bands[\"nir\"]).read(1).astype(\"float32\")\n",
    "red = rio.open(mosaic_bands[\"red\"]).read(1).astype(\"float32\")"
   ]
  },
  {
   "cell_type": "markdown",
   "metadata": {},
   "source": [
    "### calculate NDVI\n"
   ]
  },
  {
   "cell_type": "code",
   "execution_count": null,
   "metadata": {},
   "outputs": [],
   "source": [
    "ndvi = (nir - red) / (nir + red)"
   ]
  },
  {
   "cell_type": "code",
   "execution_count": null,
   "metadata": {},
   "outputs": [],
   "source": [
    "import numpy as np"
   ]
  },
  {
   "cell_type": "code",
   "execution_count": null,
   "metadata": {},
   "outputs": [],
   "source": [
    "# fill nan with -2, outside of the range but not so far outside\n",
    "ndvi[np.isnan(ndvi)] = -2"
   ]
  },
  {
   "cell_type": "code",
   "execution_count": null,
   "metadata": {},
   "outputs": [],
   "source": [
    "ndvi"
   ]
  },
  {
   "cell_type": "code",
   "execution_count": null,
   "metadata": {},
   "outputs": [],
   "source": [
    "ndvi_image = leafmap.array_to_image(ndvi, source=mosaic_bands[\"nir\"])"
   ]
  },
  {
   "cell_type": "code",
   "execution_count": null,
   "metadata": {},
   "outputs": [],
   "source": [
    "m = leafmap.Map()\n",
    "m.add_raster(ndvi_image, colormap=\"Greens\", layer_name=\"NDVI\")\n",
    "m"
   ]
  },
  {
   "cell_type": "markdown",
   "metadata": {},
   "source": [
    "## landsat\n"
   ]
  },
  {
   "cell_type": "markdown",
   "metadata": {},
   "source": []
  },
  {
   "cell_type": "code",
   "execution_count": null,
   "metadata": {},
   "outputs": [],
   "source": [
    "url = \"https://earth-search.aws.element84.com/v1/\"\n",
    "collection = \"landsat-c2-l2\"\n",
    "time_range = \"2023-08-01/2023-08-31\""
   ]
  },
  {
   "cell_type": "code",
   "execution_count": null,
   "metadata": {},
   "outputs": [],
   "source": [
    "# bbox for dallas metro\n",
    "bbox = [\n",
    "    -97.06213756027009,\n",
    "    32.97324551867027,\n",
    "    -96.46807822577594,\n",
    "    33.3578329610085,\n",
    "]"
   ]
  },
  {
   "cell_type": "code",
   "execution_count": null,
   "metadata": {},
   "outputs": [],
   "source": [
    "search = leafmap.stac_search(\n",
    "    url=url,\n",
    "    max_items=10,\n",
    "    collections=[collection],\n",
    "    bbox=bbox,\n",
    "    datetime=time_range,\n",
    "    query={\"eo:cloud_cover\": {\"lt\": 20}},\n",
    "    sortby=[{\"field\": \"properties.eo:cloud_cover\", \"direction\": \"asc\"}],\n",
    "    get_links=True,\n",
    ")\n",
    "search"
   ]
  },
  {
   "cell_type": "code",
   "execution_count": null,
   "metadata": {},
   "outputs": [],
   "source": [
    "m = leafmap.Map()\n",
    "\n",
    "# for layer in search[0]:\n",
    "m.add_stac_layer(search[0], bands=[\"nir08\", \"red\", \"green\"], name=layer.split(\"/\")[-1])\n",
    "m"
   ]
  },
  {
   "cell_type": "code",
   "execution_count": null,
   "metadata": {},
   "outputs": [],
   "source": []
  }
 ],
 "metadata": {
  "kernelspec": {
   "display_name": "cdp",
   "language": "python",
   "name": "python3"
  },
  "language_info": {
   "codemirror_mode": {
    "name": "ipython",
    "version": 3
   },
   "file_extension": ".py",
   "mimetype": "text/x-python",
   "name": "python",
   "nbconvert_exporter": "python",
   "pygments_lexer": "ipython3",
   "version": "3.11.9"
  }
 },
 "nbformat": 4,
 "nbformat_minor": 2
}
